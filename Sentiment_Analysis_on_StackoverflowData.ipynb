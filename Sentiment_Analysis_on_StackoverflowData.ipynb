{
  "cells": [
    {
      "cell_type": "code",
      "execution_count": null,
      "metadata": {
        "collapsed": true,
        "id": "xWYYyy8FC33s"
      },
      "outputs": [],
      "source": [
        "import pandas as pd  \n",
        "import numpy as np\n",
        "import matplotlib.pyplot as plt\n",
        "plt.style.use('fivethirtyeight')\n",
        "\n",
        "%matplotlib inline\n",
        "%config InlineBackend.figure_format = 'retina'"
      ]
    },
    {
      "cell_type": "code",
      "execution_count": null,
      "metadata": {
        "id": "T8_SE0zFC33t",
        "outputId": "b106175e-3bfc-485e-eed9-d41152ad93f6"
      },
      "outputs": [
        {
          "data": {
            "text/html": [
              "<div>\n",
              "<table border=\"1\" class=\"dataframe\">\n",
              "  <thead>\n",
              "    <tr style=\"text-align: right;\">\n",
              "      <th></th>\n",
              "      <th>text</th>\n",
              "      <th>target</th>\n",
              "    </tr>\n",
              "  </thead>\n",
              "  <tbody>\n",
              "    <tr>\n",
              "      <th>0</th>\n",
              "      <td>awww that bummer you shoulda got david carr of...</td>\n",
              "      <td>0</td>\n",
              "    </tr>\n",
              "    <tr>\n",
              "      <th>1</th>\n",
              "      <td>is upset that he can not update his facebook b...</td>\n",
              "      <td>0</td>\n",
              "    </tr>\n",
              "    <tr>\n",
              "      <th>2</th>\n",
              "      <td>dived many times for the ball managed to save ...</td>\n",
              "      <td>0</td>\n",
              "    </tr>\n",
              "    <tr>\n",
              "      <th>3</th>\n",
              "      <td>my whole body feels itchy and like its on fire</td>\n",
              "      <td>0</td>\n",
              "    </tr>\n",
              "    <tr>\n",
              "      <th>4</th>\n",
              "      <td>no it not behaving at all mad why am here beca...</td>\n",
              "      <td>0</td>\n",
              "    </tr>\n",
              "  </tbody>\n",
              "</table>\n",
              "</div>"
            ],
            "text/plain": [
              "                                                text  target\n",
              "0  awww that bummer you shoulda got david carr of...       0\n",
              "1  is upset that he can not update his facebook b...       0\n",
              "2  dived many times for the ball managed to save ...       0\n",
              "3     my whole body feels itchy and like its on fire       0\n",
              "4  no it not behaving at all mad why am here beca...       0"
            ]
          },
          "execution_count": 5,
          "metadata": {},
          "output_type": "execute_result"
        }
      ],
      "source": [
        "csv = 'clean_stackoverflow_posts.csv'\n",
        "my_df = pd.read_csv(csv,index_col=0)\n",
        "my_df.head()"
      ]
    },
    {
      "cell_type": "code",
      "execution_count": null,
      "metadata": {
        "id": "kk5sPAL_C33t",
        "outputId": "3c858140-9637-40aa-e4a7-976bdba77646"
      },
      "outputs": [
        {
          "name": "stdout",
          "output_type": "stream",
          "text": [
            "<class 'pandas.core.frame.DataFrame'>\n",
            "RangeIndex: 1596019 entries, 0 to 1596018\n",
            "Data columns (total 2 columns):\n",
            "text      1596019 non-null object\n",
            "target    1596019 non-null int64\n",
            "dtypes: int64(1), object(1)\n",
            "memory usage: 24.4+ MB\n"
          ]
        }
      ],
      "source": [
        "my_df.dropna(inplace=True)\n",
        "my_df.reset_index(drop=True,inplace=True)\n",
        "my_df.info()"
      ]
    },
    {
      "cell_type": "code",
      "execution_count": null,
      "metadata": {
        "collapsed": true,
        "id": "77IEHWaUC33t"
      },
      "outputs": [],
      "source": [
        "x = my_df.text\n",
        "y = my_df.target"
      ]
    },
    {
      "cell_type": "code",
      "execution_count": null,
      "metadata": {
        "collapsed": true,
        "id": "Gixa2eOMC33u"
      },
      "outputs": [],
      "source": [
        "from sklearn.cross_validation import train_test_split\n",
        "SEED = 2000\n",
        "x_train, x_validation_and_test, y_train, y_validation_and_test = train_test_split(x, y, test_size=.02, random_state=SEED)\n",
        "x_validation, x_test, y_validation, y_test = train_test_split(x_validation_and_test, y_validation_and_test, test_size=.5, random_state=SEED)"
      ]
    },
    {
      "cell_type": "code",
      "execution_count": null,
      "metadata": {
        "collapsed": true,
        "id": "c0aM3KhvC33u"
      },
      "outputs": [],
      "source": [
        "from tqdm import tqdm\n",
        "tqdm.pandas(desc=\"progress-bar\")\n",
        "import gensim\n",
        "from gensim.models.word2vec import Word2Vec\n",
        "from gensim.models.doc2vec import TaggedDocument\n",
        "import multiprocessing\n",
        "from sklearn import utils"
      ]
    },
    {
      "cell_type": "code",
      "execution_count": null,
      "metadata": {
        "collapsed": true,
        "id": "1ka-XIjiC33u"
      },
      "outputs": [],
      "source": [
        "def labelize_tweets_ug(tweets,label):\n",
        "    result = []\n",
        "    prefix = label\n",
        "    for i, t in zip(tweets.index, tweets):\n",
        "        result.append(TaggedDocument(t.split(), [prefix + '_%s' % i]))\n",
        "    return result"
      ]
    },
    {
      "cell_type": "code",
      "execution_count": null,
      "metadata": {
        "collapsed": true,
        "id": "lYbQa0prC33v"
      },
      "outputs": [],
      "source": [
        "all_x = pd.concat([x_train,x_validation,x_test])\n",
        "all_x_w2v = labelize_tweets_ug(all_x, 'all')"
      ]
    },
    {
      "cell_type": "code",
      "execution_count": null,
      "metadata": {
        "id": "Pvs4tehGC33v",
        "outputId": "5d61ab40-9f2d-478c-f322-f426ff370dbb"
      },
      "outputs": [
        {
          "name": "stderr",
          "output_type": "stream",
          "text": [
            "100%|██████████| 1596019/1596019 [00:01<00:00, 974931.80it/s]\n"
          ]
        }
      ],
      "source": [
        "cores = multiprocessing.cpu_count()\n",
        "model_ug_cbow = Word2Vec(sg=0, size=100, negative=5, window=2, min_count=2, workers=cores, alpha=0.065, min_alpha=0.065)\n",
        "model_ug_cbow.build_vocab([x.words for x in tqdm(all_x_w2v)])"
      ]
    },
    {
      "cell_type": "code",
      "execution_count": null,
      "metadata": {
        "id": "mD7ulJRMC33v",
        "outputId": "f31105dc-0f78-41ad-8e2d-92fadecac494"
      },
      "outputs": [
        {
          "name": "stderr",
          "output_type": "stream",
          "text": [
            "100%|██████████| 1596019/1596019 [00:01<00:00, 896751.73it/s]\n",
            "100%|██████████| 1596019/1596019 [00:01<00:00, 1132476.16it/s]\n",
            "100%|██████████| 1596019/1596019 [00:01<00:00, 1098657.06it/s]\n",
            "100%|██████████| 1596019/1596019 [00:01<00:00, 1087776.38it/s]\n",
            "100%|██████████| 1596019/1596019 [00:01<00:00, 1093001.25it/s]\n",
            "100%|██████████| 1596019/1596019 [00:01<00:00, 1157588.98it/s]\n",
            "100%|██████████| 1596019/1596019 [00:01<00:00, 1100648.79it/s]\n",
            "100%|██████████| 1596019/1596019 [00:01<00:00, 1119397.57it/s]\n",
            "100%|██████████| 1596019/1596019 [00:01<00:00, 1039300.87it/s]\n",
            "100%|██████████| 1596019/1596019 [00:01<00:00, 1139894.69it/s]\n",
            "100%|██████████| 1596019/1596019 [00:01<00:00, 1115533.23it/s]\n",
            "100%|██████████| 1596019/1596019 [00:01<00:00, 1056060.47it/s]\n",
            "100%|██████████| 1596019/1596019 [00:01<00:00, 1110581.51it/s]\n",
            "100%|██████████| 1596019/1596019 [00:01<00:00, 1120059.66it/s]\n",
            "100%|██████████| 1596019/1596019 [00:01<00:00, 1124520.95it/s]\n",
            "100%|██████████| 1596019/1596019 [00:01<00:00, 1012078.21it/s]\n",
            "100%|██████████| 1596019/1596019 [00:01<00:00, 1065250.54it/s]\n",
            "100%|██████████| 1596019/1596019 [00:01<00:00, 1105911.38it/s]\n",
            "100%|██████████| 1596019/1596019 [00:01<00:00, 1152587.48it/s]\n",
            "100%|██████████| 1596019/1596019 [00:01<00:00, 1151142.59it/s]\n",
            "100%|██████████| 1596019/1596019 [00:01<00:00, 1082757.94it/s]\n",
            "100%|██████████| 1596019/1596019 [00:01<00:00, 1087360.45it/s]\n",
            "100%|██████████| 1596019/1596019 [00:01<00:00, 1099016.36it/s]\n",
            "100%|██████████| 1596019/1596019 [00:01<00:00, 1102341.08it/s]\n",
            "100%|██████████| 1596019/1596019 [00:01<00:00, 1005251.65it/s]\n",
            "100%|██████████| 1596019/1596019 [00:01<00:00, 1016836.86it/s]\n",
            "100%|██████████| 1596019/1596019 [00:01<00:00, 1129312.57it/s]\n",
            "100%|██████████| 1596019/1596019 [00:01<00:00, 1080032.42it/s]\n",
            "100%|██████████| 1596019/1596019 [00:01<00:00, 1091104.83it/s]\n",
            "100%|██████████| 1596019/1596019 [00:01<00:00, 1118170.79it/s]\n"
          ]
        },
        {
          "name": "stdout",
          "output_type": "stream",
          "text": [
            "CPU times: user 22min 1s, sys: 1min 3s, total: 23min 5s\n",
            "Wall time: 9min 37s\n"
          ]
        }
      ],
      "source": [
        "%%time\n",
        "for epoch in range(30):\n",
        "    model_ug_cbow.train(utils.shuffle([x.words for x in tqdm(all_x_w2v)]), total_examples=len(all_x_w2v), epochs=1)\n",
        "    model_ug_cbow.alpha -= 0.002\n",
        "    model_ug_cbow.min_alpha = model_ug_cbow.alpha"
      ]
    },
    {
      "cell_type": "code",
      "execution_count": null,
      "metadata": {
        "id": "R-aYcR4XC33v",
        "outputId": "5bd78b33-5f41-4660-f7e9-46b712c84941"
      },
      "outputs": [
        {
          "name": "stderr",
          "output_type": "stream",
          "text": [
            "100%|██████████| 1596019/1596019 [00:02<00:00, 533098.47it/s]\n"
          ]
        }
      ],
      "source": [
        "model_ug_sg = Word2Vec(sg=1, size=100, negative=5, window=2, min_count=2, workers=cores, alpha=0.065, min_alpha=0.065)\n",
        "model_ug_sg.build_vocab([x.words for x in tqdm(all_x_w2v)])"
      ]
    },
    {
      "cell_type": "code",
      "execution_count": null,
      "metadata": {
        "id": "j-KM69kjC33v",
        "outputId": "41609db7-39fc-4360-a982-460e43c75dfe"
      },
      "outputs": [
        {
          "name": "stderr",
          "output_type": "stream",
          "text": [
            "100%|██████████| 1596019/1596019 [00:01<00:00, 923343.66it/s]\n",
            "100%|██████████| 1596019/1596019 [00:01<00:00, 1071407.58it/s]\n",
            "100%|██████████| 1596019/1596019 [00:01<00:00, 1084559.36it/s]\n",
            "100%|██████████| 1596019/1596019 [00:01<00:00, 1085515.92it/s]\n",
            "100%|██████████| 1596019/1596019 [00:01<00:00, 1098921.10it/s]\n",
            "100%|██████████| 1596019/1596019 [00:01<00:00, 1084263.01it/s]\n",
            "100%|██████████| 1596019/1596019 [00:01<00:00, 1137634.20it/s]\n",
            "100%|██████████| 1596019/1596019 [00:01<00:00, 1063158.62it/s]\n",
            "100%|██████████| 1596019/1596019 [00:01<00:00, 1095510.09it/s]\n",
            "100%|██████████| 1596019/1596019 [00:01<00:00, 1124627.88it/s]\n",
            "100%|██████████| 1596019/1596019 [00:01<00:00, 1097201.52it/s]\n",
            "100%|██████████| 1596019/1596019 [00:01<00:00, 994637.94it/s]\n",
            "100%|██████████| 1596019/1596019 [00:01<00:00, 1164331.50it/s]\n",
            "100%|██████████| 1596019/1596019 [00:01<00:00, 1117291.03it/s]\n",
            "100%|██████████| 1596019/1596019 [00:01<00:00, 1121341.67it/s]\n",
            "100%|██████████| 1596019/1596019 [00:01<00:00, 1069449.79it/s]\n",
            "100%|██████████| 1596019/1596019 [00:01<00:00, 1084845.33it/s]\n",
            "100%|██████████| 1596019/1596019 [00:01<00:00, 1013267.45it/s]\n",
            "100%|██████████| 1596019/1596019 [00:01<00:00, 1127429.99it/s]\n",
            "100%|██████████| 1596019/1596019 [00:01<00:00, 1169868.72it/s]\n",
            "100%|██████████| 1596019/1596019 [00:01<00:00, 1052711.44it/s]\n",
            "100%|██████████| 1596019/1596019 [00:01<00:00, 1098613.06it/s]\n",
            "100%|██████████| 1596019/1596019 [00:01<00:00, 1176477.52it/s]\n",
            "100%|██████████| 1596019/1596019 [00:01<00:00, 1078878.89it/s]\n",
            "100%|██████████| 1596019/1596019 [00:01<00:00, 1164789.36it/s]\n",
            "100%|██████████| 1596019/1596019 [00:01<00:00, 1132839.33it/s]\n",
            "100%|██████████| 1596019/1596019 [00:01<00:00, 1103489.69it/s]\n",
            "100%|██████████| 1596019/1596019 [00:01<00:00, 1115084.29it/s]\n",
            "100%|██████████| 1596019/1596019 [00:01<00:00, 1165798.53it/s]\n",
            "100%|██████████| 1596019/1596019 [00:01<00:00, 1137897.00it/s]\n"
          ]
        },
        {
          "name": "stdout",
          "output_type": "stream",
          "text": [
            "CPU times: user 41min 35s, sys: 31.7 s, total: 42min 7s\n",
            "Wall time: 12min 35s\n"
          ]
        }
      ],
      "source": [
        "%%time\n",
        "for epoch in range(30):\n",
        "    model_ug_sg.train(utils.shuffle([x.words for x in tqdm(all_x_w2v)]), total_examples=len(all_x_w2v), epochs=1)\n",
        "    model_ug_sg.alpha -= 0.002\n",
        "    model_ug_sg.min_alpha = model_ug_sg.alpha"
      ]
    },
    {
      "cell_type": "code",
      "execution_count": null,
      "metadata": {
        "collapsed": true,
        "id": "A7LxmbOMC33w"
      },
      "outputs": [],
      "source": [
        "model_ug_cbow.save('w2v_model_ug_cbow.word2vec')\n",
        "model_ug_sg.save('w2v_model_ug_sg.word2vec')"
      ]
    },
    {
      "cell_type": "markdown",
      "metadata": {
        "id": "cn9TN_0WC33w"
      },
      "source": [
        "# Prepration for Convolutional Neural Network"
      ]
    },
    {
      "cell_type": "markdown",
      "metadata": {
        "id": "2IhUbhc1C33x"
      },
      "source": [
        "In the last post, I have aggregated the word vectors of each word in a tweet, either summation or calculating mean to get one vector representation of each tweet. However, in order to feed to a CNN, we have to not only feed each word vector to the model, but also in a sequence which matches the original tweet."
      ]
    },
    {
      "cell_type": "markdown",
      "metadata": {
        "id": "bxFSOxdcC33x"
      },
      "source": [
        "Let's first load the Word2Vec models to extract word vectors from. I have saved the Word2Vec models I trained earlier, and can easily be loaded with \"KeyedVectors\" function in Gensim. I have two different Word2Vec models, one with CBOW (Continuous Bag Of Words) model, and the other with a skip-gram model. I won't go into detail of how CBOW and skip-gram differs."
      ]
    },
    {
      "cell_type": "code",
      "execution_count": null,
      "metadata": {
        "collapsed": true,
        "id": "xyghdshnC33y"
      },
      "outputs": [],
      "source": [
        "from gensim.models import KeyedVectors\n",
        "model_ug_cbow = KeyedVectors.load('w2v_model_ug_cbow.word2vec')\n",
        "model_ug_sg = KeyedVectors.load('w2v_model_ug_sg.word2vec')"
      ]
    },
    {
      "cell_type": "code",
      "execution_count": null,
      "metadata": {
        "id": "bTSI7CfKC33y",
        "outputId": "f49e8099-5cda-4a96-e076-a00581080b96"
      },
      "outputs": [
        {
          "data": {
            "text/plain": [
              "106257"
            ]
          },
          "execution_count": 12,
          "metadata": {},
          "output_type": "execute_result"
        }
      ],
      "source": [
        "len(model_ug_cbow.wv.vocab.keys())"
      ]
    },
    {
      "cell_type": "code",
      "execution_count": null,
      "metadata": {
        "id": "HNCc7qGWC33y",
        "outputId": "7172d393-2854-485f-d3c6-fd29b1465b12"
      },
      "outputs": [
        {
          "name": "stdout",
          "output_type": "stream",
          "text": [
            "Found 106257 word vectors.\n"
          ]
        }
      ],
      "source": [
        "embeddings_index = {}\n",
        "for w in model_ug_cbow.wv.vocab.keys():\n",
        "    embeddings_index[w] = np.append(model_ug_cbow.wv[w],model_ug_sg.wv[w])\n",
        "print('Found %s word vectors.' % len(embeddings_index))"
      ]
    },
    {
      "cell_type": "markdown",
      "metadata": {
        "id": "EHQOsFUeC33z"
      },
      "source": [
        "Now we have our reference to word vectors ready, but we still haven't prepared data to be in the format I have explained at the start of the post. Keras' 'Tokenizer' will split each word in a sentence,  then we can call 'texts_to_sequences' method to get the sequential representation of each sentence. We also need to pass 'num_words' which is a number of vocabularies you want to use, and this will be applied when you call 'texts_to_sequences' method. This might be a bit counter-intuitive since if you check the length of all the word index, it will not be the number of words you defined, but the actual screening process happens when you call 'texts_to_sequences' method."
      ]
    },
    {
      "cell_type": "code",
      "execution_count": null,
      "metadata": {
        "collapsed": true,
        "id": "ZZV9_9h2C33z"
      },
      "outputs": [],
      "source": [
        "from keras.preprocessing.text import Tokenizer\n",
        "from keras.preprocessing.sequence import pad_sequences\n",
        "\n",
        "tokenizer = Tokenizer(num_words=100000)\n",
        "tokenizer.fit_on_texts(x_train)\n",
        "sequences = tokenizer.texts_to_sequences(x_train)"
      ]
    },
    {
      "cell_type": "code",
      "execution_count": null,
      "metadata": {
        "id": "JHkXHjv7C33z",
        "outputId": "ba46b9b7-7ea7-4e1a-f95c-108928beeb1a"
      },
      "outputs": [
        {
          "data": {
            "text/plain": [
              "261650"
            ]
          },
          "execution_count": 12,
          "metadata": {},
          "output_type": "execute_result"
        }
      ],
      "source": [
        "len(tokenizer.word_index)"
      ]
    },
    {
      "cell_type": "markdown",
      "metadata": {
        "id": "eRjYscpzC33z"
      },
      "source": [
        "Below are the first five entries of the original train data."
      ]
    },
    {
      "cell_type": "code",
      "execution_count": null,
      "metadata": {
        "id": "e9uJb_9HC33z",
        "outputId": "d0ef00b6-7a1b-452d-fae9-9a7dec880f2d"
      },
      "outputs": [
        {
          "name": "stdout",
          "output_type": "stream",
          "text": [
            "hate you\n",
            "got physics exam jealous\n",
            "holy shit new vending machine blue lcd bit but no fun carousel delivery system\n",
            "ha no went to real gym swear look what found of our fave things chocolate nathan\n",
            "loved my doggie kisses made my day can not tell little bear tho\n"
          ]
        }
      ],
      "source": [
        "for x in x_train[:5]:\n",
        "    print x"
      ]
    },
    {
      "cell_type": "markdown",
      "metadata": {
        "id": "MpGBnpWLC33z"
      },
      "source": [
        "And the same data prepared as sequential dats is as below."
      ]
    },
    {
      "cell_type": "code",
      "execution_count": null,
      "metadata": {
        "id": "r2-AFQoPC33z",
        "outputId": "8ed53fd6-f1cb-4e6e-9772-64b19ad3d72d"
      },
      "outputs": [
        {
          "data": {
            "text/plain": [
              "[[137, 6],\n",
              " [45, 2569, 410, 555],\n",
              " [1311, 353, 69, 9569, 1496, 855, 9411, 235, 17, 35, 104, 18470, 2871, 1443],\n",
              " [384,\n",
              "  35,\n",
              "  203,\n",
              "  1,\n",
              "  372,\n",
              "  629,\n",
              "  1491,\n",
              "  202,\n",
              "  46,\n",
              "  302,\n",
              "  11,\n",
              "  177,\n",
              "  1417,\n",
              "  223,\n",
              "  673,\n",
              "  4994],\n",
              " [502, 3, 4487, 2134, 195, 3, 29, 26, 7, 253, 157, 1758, 329]]"
            ]
          },
          "execution_count": 63,
          "metadata": {},
          "output_type": "execute_result"
        }
      ],
      "source": [
        "sequences[:5]"
      ]
    },
    {
      "cell_type": "markdown",
      "metadata": {
        "id": "7eIxJrFuC330"
      },
      "source": [
        "Each word is represented as a number, and we can see that the number of words in each sentence is matching the length of numbers in the \"sequences\". We can later make connections of which word each number represents. But we still didn't pad our data, so each sentence has varying length. Let's deal with this."
      ]
    },
    {
      "cell_type": "code",
      "execution_count": null,
      "metadata": {
        "collapsed": true,
        "id": "WdJNLM8NC330"
      },
      "outputs": [],
      "source": [
        "length = []\n",
        "for x in x_train:\n",
        "    length.append(len(x.split()))"
      ]
    },
    {
      "cell_type": "code",
      "execution_count": null,
      "metadata": {
        "id": "HP0udSXHC330",
        "outputId": "06f6ab09-82f2-4ff3-92ba-b637c7c05efd"
      },
      "outputs": [
        {
          "data": {
            "text/plain": [
              "40"
            ]
          },
          "execution_count": 153,
          "metadata": {},
          "output_type": "execute_result"
        }
      ],
      "source": [
        "max(length)"
      ]
    },
    {
      "cell_type": "markdown",
      "metadata": {
        "id": "Ocl4m5bqC330"
      },
      "source": [
        "The maximum number of words in a sentence within the training data is 40. Let's decide the maximum length to be a bit longer than this, let's say 45."
      ]
    },
    {
      "cell_type": "code",
      "execution_count": null,
      "metadata": {
        "id": "bZ5SUthpC330",
        "outputId": "17640db1-2617-4dc8-c226-ae3a72c2011d"
      },
      "outputs": [
        {
          "name": "stdout",
          "output_type": "stream",
          "text": [
            "('Shape of data tensor:', (1564098, 45))\n"
          ]
        }
      ],
      "source": [
        "x_train_seq = pad_sequences(sequences, maxlen=45)\n",
        "print('Shape of data tensor:', x_train_seq.shape)"
      ]
    },
    {
      "cell_type": "code",
      "execution_count": null,
      "metadata": {
        "id": "0F-a2e-9C330",
        "outputId": "f0fd9b9a-c4a4-4066-826e-54dedcee20c7"
      },
      "outputs": [
        {
          "data": {
            "text/plain": [
              "array([[    0,     0,     0,     0,     0,     0,     0,     0,     0,\n",
              "            0,     0,     0,     0,     0,     0,     0,     0,     0,\n",
              "            0,     0,     0,     0,     0,     0,     0,     0,     0,\n",
              "            0,     0,     0,     0,     0,     0,     0,     0,     0,\n",
              "            0,     0,     0,     0,     0,     0,     0,   137,     6],\n",
              "       [    0,     0,     0,     0,     0,     0,     0,     0,     0,\n",
              "            0,     0,     0,     0,     0,     0,     0,     0,     0,\n",
              "            0,     0,     0,     0,     0,     0,     0,     0,     0,\n",
              "            0,     0,     0,     0,     0,     0,     0,     0,     0,\n",
              "            0,     0,     0,     0,     0,    45,  2569,   410,   555],\n",
              "       [    0,     0,     0,     0,     0,     0,     0,     0,     0,\n",
              "            0,     0,     0,     0,     0,     0,     0,     0,     0,\n",
              "            0,     0,     0,     0,     0,     0,     0,     0,     0,\n",
              "            0,     0,     0,     0,  1311,   353,    69,  9569,  1496,\n",
              "          855,  9411,   235,    17,    35,   104, 18470,  2871,  1443],\n",
              "       [    0,     0,     0,     0,     0,     0,     0,     0,     0,\n",
              "            0,     0,     0,     0,     0,     0,     0,     0,     0,\n",
              "            0,     0,     0,     0,     0,     0,     0,     0,     0,\n",
              "            0,     0,   384,    35,   203,     1,   372,   629,  1491,\n",
              "          202,    46,   302,    11,   177,  1417,   223,   673,  4994],\n",
              "       [    0,     0,     0,     0,     0,     0,     0,     0,     0,\n",
              "            0,     0,     0,     0,     0,     0,     0,     0,     0,\n",
              "            0,     0,     0,     0,     0,     0,     0,     0,     0,\n",
              "            0,     0,     0,     0,     0,   502,     3,  4487,  2134,\n",
              "          195,     3,    29,    26,     7,   253,   157,  1758,   329]],\n",
              "      dtype=int32)"
            ]
          },
          "execution_count": 65,
          "metadata": {},
          "output_type": "execute_result"
        }
      ],
      "source": [
        "x_train_seq[:5]"
      ]
    },
    {
      "cell_type": "markdown",
      "metadata": {
        "id": "75ygSOOnC330"
      },
      "source": [
        "As you can see from the padded sequences, all the data now transformed to have the same length of 45, and by default, Keras zero-pads at the beginning, if a sentence length is shorter than the maximum length. "
      ]
    },
    {
      "cell_type": "code",
      "execution_count": null,
      "metadata": {
        "collapsed": true,
        "id": "xbW0Bkb-C331"
      },
      "outputs": [],
      "source": [
        "sequences_val = tokenizer.texts_to_sequences(x_validation)\n",
        "x_val_seq = pad_sequences(sequences_val, maxlen=45)"
      ]
    },
    {
      "cell_type": "markdown",
      "metadata": {
        "id": "sBedNhyUC331"
      },
      "source": [
        "There's still one more thing left to do before we can feed the sequential text data to a model. When we transformed a sentence into a sequence, each word is represented by an integer number. Actually, these numbers are where each word is stored in the tokenizer's word index. Keeping this in mind, let's build a matrix of these word vectors, but this time we will use the word index number so that our model can refer to the corresponding vector when fed with integer sequence."
      ]
    },
    {
      "cell_type": "code",
      "execution_count": null,
      "metadata": {
        "collapsed": true,
        "id": "RFRWOLKTC331"
      },
      "outputs": [],
      "source": [
        "num_words = 100000\n",
        "embedding_matrix = np.zeros((num_words, 200))\n",
        "for word, i in tokenizer.word_index.items():\n",
        "    if i >= num_words:\n",
        "        continue\n",
        "    embedding_vector = embeddings_index.get(word)\n",
        "    if embedding_vector is not None:\n",
        "        embedding_matrix[i] = embedding_vector"
      ]
    },
    {
      "cell_type": "markdown",
      "metadata": {
        "id": "BL8BqaXtC331"
      },
      "source": [
        "As a sanity check, if the embedding matrix has been generated properly. In the above, when I saw the first five entries of the training set, the first entry was \"hate you\", and the sequential representation of this was [137, 6]. Let's see if 6th embedding matrix is as same as vectors for the word 'you'."
      ]
    },
    {
      "cell_type": "code",
      "execution_count": null,
      "metadata": {
        "id": "a8bSuKO2C331",
        "outputId": "b94f9470-afbd-4c47-bcf7-ca79bbe4c7da"
      },
      "outputs": [
        {
          "data": {
            "text/plain": [
              "True"
            ]
          },
          "execution_count": 84,
          "metadata": {},
          "output_type": "execute_result"
        }
      ],
      "source": [
        "np.array_equal(embedding_matrix[6] ,embeddings_index.get('you'))"
      ]
    },
    {
      "cell_type": "markdown",
      "metadata": {
        "id": "T_cjOcVBC331"
      },
      "source": [
        "Now we are ready with the data preparation. Before we jump into CNN, I would like to test one more thing (sorry for the delay). When we feed this sequential vector representation of data, we will use Embedding layer in Keras. With Embedding layer, I can either pass pre-defined embedding, which I prepared as 'embedding_matrix' above, or Embedding layer itself can learn word embeddings as the whole model trains. And another possibility is we can still feed the pre-defined embedding but make it trainable so that it will update the values of vectors as the model trains."
      ]
    },
    {
      "cell_type": "code",
      "execution_count": null,
      "metadata": {
        "id": "Wx7W--tyC332",
        "outputId": "8205708e-f147-4fde-c8b6-ee6a3977273c"
      },
      "outputs": [
        {
          "name": "stderr",
          "output_type": "stream",
          "text": [
            "/anaconda2/lib/python2.7/site-packages/h5py/__init__.py:34: FutureWarning: Conversion of the second argument of issubdtype from `float` to `np.floating` is deprecated. In future, it will be treated as `np.float64 == np.dtype(float).type`.\n",
            "  from ._conv import register_converters as _register_converters\n",
            "Using TensorFlow backend.\n"
          ]
        }
      ],
      "source": [
        "seed = 7\n",
        "\n",
        "from keras.models import Sequential\n",
        "from keras.layers import Dense, Dropout\n",
        "from keras.layers import Flatten\n",
        "from keras.layers.embeddings import Embedding"
      ]
    },
    {
      "cell_type": "code",
      "execution_count": null,
      "metadata": {
        "id": "RdwDoQm6C332",
        "outputId": "69014985-b93f-476e-b0e9-72aeaa335a8b"
      },
      "outputs": [
        {
          "name": "stdout",
          "output_type": "stream",
          "text": [
            "Train on 1564098 samples, validate on 15960 samples\n",
            "Epoch 1/5\n",
            " - 1394s - loss: 0.4614 - acc: 0.7799 - val_loss: 0.4479 - val_acc: 0.7909\n",
            "Epoch 2/5\n",
            " - 1416s - loss: 0.4262 - acc: 0.8014 - val_loss: 0.4405 - val_acc: 0.7955\n",
            "Epoch 3/5\n",
            " - 1342s - loss: 0.3997 - acc: 0.8167 - val_loss: 0.4512 - val_acc: 0.7932\n",
            "Epoch 4/5\n",
            " - 1315s - loss: 0.3730 - acc: 0.8313 - val_loss: 0.4679 - val_acc: 0.7841\n",
            "Epoch 5/5\n",
            " - 1297s - loss: 0.3475 - acc: 0.8450 - val_loss: 0.4943 - val_acc: 0.7844\n"
          ]
        },
        {
          "data": {
            "text/plain": [
              "<keras.callbacks.History at 0x14f3c8fd0>"
            ]
          },
          "execution_count": 85,
          "metadata": {},
          "output_type": "execute_result"
        }
      ],
      "source": [
        "model_ptw2v = Sequential()\n",
        "e = Embedding(100000, 200, weights=[embedding_matrix], input_length=45, trainable=False)\n",
        "model_ptw2v.add(e)\n",
        "model_ptw2v.add(Flatten())\n",
        "model_ptw2v.add(Dense(256, activation='relu'))\n",
        "model_ptw2v.add(Dense(1, activation='sigmoid'))\n",
        "model_ptw2v.compile(loss='binary_crossentropy', optimizer='adam', metrics=['accuracy'])\n",
        "model_ptw2v.fit(x_train_seq, y_train, validation_data=(x_val_seq, y_validation), epochs=5, batch_size=32, verbose=2)"
      ]
    },
    {
      "cell_type": "code",
      "execution_count": null,
      "metadata": {
        "id": "-VtmWq9oC332",
        "outputId": "4504dbf0-e19e-4ac0-bb3a-5bb572ad9cc6"
      },
      "outputs": [
        {
          "name": "stdout",
          "output_type": "stream",
          "text": [
            "Train on 1564098 samples, validate on 15960 samples\n",
            "Epoch 1/5\n",
            " - 10985s - loss: 0.4219 - acc: 0.8054 - val_loss: 0.4029 - val_acc: 0.8210\n",
            "Epoch 2/5\n",
            " - 10984s - loss: 0.3718 - acc: 0.8346 - val_loss: 0.4048 - val_acc: 0.8195\n",
            "Epoch 3/5\n",
            " - 10975s - loss: 0.3236 - acc: 0.8595 - val_loss: 0.4293 - val_acc: 0.8161\n",
            "Epoch 4/5\n",
            " - 11475s - loss: 0.2722 - acc: 0.8847 - val_loss: 0.4762 - val_acc: 0.8019\n",
            "Epoch 5/5\n",
            " - 12110s - loss: 0.2277 - acc: 0.9052 - val_loss: 0.5349 - val_acc: 0.7951\n"
          ]
        },
        {
          "data": {
            "text/plain": [
              "<keras.callbacks.History at 0x153193890>"
            ]
          },
          "execution_count": 87,
          "metadata": {},
          "output_type": "execute_result"
        }
      ],
      "source": [
        "model_ptw2v = Sequential()\n",
        "e = Embedding(100000, 200, input_length=45)\n",
        "model_ptw2v.add(e)\n",
        "model_ptw2v.add(Flatten())\n",
        "model_ptw2v.add(Dense(256, activation='relu'))\n",
        "model_ptw2v.add(Dense(1, activation='sigmoid'))\n",
        "model_ptw2v.compile(loss='binary_crossentropy', optimizer='adam', metrics=['accuracy'])\n",
        "model_ptw2v.fit(x_train_seq, y_train, validation_data=(x_val_seq, y_validation), epochs=5, batch_size=32, verbose=2)"
      ]
    },
    {
      "cell_type": "code",
      "execution_count": null,
      "metadata": {
        "id": "6MWq9mmFC332",
        "outputId": "3d92d115-b8cb-4b79-8290-848ce264cc62"
      },
      "outputs": [
        {
          "name": "stdout",
          "output_type": "stream",
          "text": [
            "Train on 1564098 samples, validate on 15960 samples\n",
            "Epoch 1/5\n",
            " - 11945s - loss: 0.4226 - acc: 0.8051 - val_loss: 0.4068 - val_acc: 0.8163\n",
            "Epoch 2/5\n",
            " - 11473s - loss: 0.3783 - acc: 0.8305 - val_loss: 0.4086 - val_acc: 0.8186\n",
            "Epoch 3/5\n",
            " - 10964s - loss: 0.3421 - acc: 0.8492 - val_loss: 0.4171 - val_acc: 0.8222\n",
            "Epoch 4/5\n",
            " - 10968s - loss: 0.2992 - acc: 0.8708 - val_loss: 0.4530 - val_acc: 0.8137\n",
            "Epoch 5/5\n",
            " - 10956s - loss: 0.2575 - acc: 0.8907 - val_loss: 0.4974 - val_acc: 0.8071\n"
          ]
        },
        {
          "data": {
            "text/plain": [
              "<keras.callbacks.History at 0x150e0ac50>"
            ]
          },
          "execution_count": 88,
          "metadata": {},
          "output_type": "execute_result"
        }
      ],
      "source": [
        "model_ptw2v = Sequential()\n",
        "e = Embedding(100000, 200, weights=[embedding_matrix], input_length=45, trainable=True)\n",
        "model_ptw2v.add(e)\n",
        "model_ptw2v.add(Flatten())\n",
        "model_ptw2v.add(Dense(256, activation='relu'))\n",
        "model_ptw2v.add(Dense(1, activation='sigmoid'))\n",
        "model_ptw2v.compile(loss='binary_crossentropy', optimizer='adam', metrics=['accuracy'])\n",
        "model_ptw2v.fit(x_train_seq, y_train, validation_data=(x_val_seq, y_validation), epochs=5, batch_size=32, verbose=2)"
      ]
    },
    {
      "cell_type": "markdown",
      "metadata": {
        "id": "Lt17LkqNC332"
      },
      "source": [
        "# Convolutional Neural Network"
      ]
    },
    {
      "cell_type": "markdown",
      "metadata": {
        "id": "AzqZAuV6C333"
      },
      "source": [
        "Now let's try to add more filters to our 1D Convolutional layer. If we apply 100 2X200 filters with stride size of 1 to 45X200 matrix, can you guess the output dimension?"
      ]
    },
    {
      "cell_type": "code",
      "execution_count": null,
      "metadata": {
        "collapsed": true,
        "id": "QIWaAn_dC333"
      },
      "outputs": [],
      "source": [
        "from keras.layers import Conv1D, GlobalMaxPooling1D"
      ]
    },
    {
      "cell_type": "code",
      "execution_count": null,
      "metadata": {
        "id": "AAijKUByC333",
        "outputId": "fc5a4c14-252d-479c-cc04-7b6c0d3f0c3f"
      },
      "outputs": [
        {
          "name": "stdout",
          "output_type": "stream",
          "text": [
            "_________________________________________________________________\n",
            "Layer (type)                 Output Shape              Param #   \n",
            "=================================================================\n",
            "embedding_44 (Embedding)     (None, 45, 200)           20000000  \n",
            "_________________________________________________________________\n",
            "conv1d_37 (Conv1D)           (None, 44, 100)           40100     \n",
            "=================================================================\n",
            "Total params: 20,040,100\n",
            "Trainable params: 20,040,100\n",
            "Non-trainable params: 0\n",
            "_________________________________________________________________\n"
          ]
        }
      ],
      "source": [
        "structure_test = Sequential()\n",
        "e = Embedding(100000, 200, input_length=45)\n",
        "structure_test.add(e)\n",
        "structure_test.add(Conv1D(filters=100, kernel_size=2, padding='valid', activation='relu', strides=1))\n",
        "structure_test.summary()"
      ]
    },
    {
      "cell_type": "markdown",
      "metadata": {
        "id": "iGsxhmqOC334"
      },
      "source": [
        "Now if we add Global Max Pooling layer, then the pooling layer will extract the maximum value from each filter, and the output dimension will be a just 1-dimensional vector with length as same as the number of filters we applied. This can be directly passed on to a dense layer without flattening."
      ]
    },
    {
      "cell_type": "code",
      "execution_count": null,
      "metadata": {
        "id": "2L9oV1N2C334",
        "outputId": "d2bf3628-3905-42b0-d8fc-83a275c1184b"
      },
      "outputs": [
        {
          "name": "stdout",
          "output_type": "stream",
          "text": [
            "_________________________________________________________________\n",
            "Layer (type)                 Output Shape              Param #   \n",
            "=================================================================\n",
            "embedding_47 (Embedding)     (None, 45, 200)           20000000  \n",
            "_________________________________________________________________\n",
            "conv1d_40 (Conv1D)           (None, 44, 100)           40100     \n",
            "_________________________________________________________________\n",
            "global_max_pooling1d_21 (Glo (None, 100)               0         \n",
            "=================================================================\n",
            "Total params: 20,040,100\n",
            "Trainable params: 20,040,100\n",
            "Non-trainable params: 0\n",
            "_________________________________________________________________\n"
          ]
        }
      ],
      "source": [
        "structure_test = Sequential()\n",
        "e = Embedding(100000, 200, input_length=45)\n",
        "structure_test.add(e)\n",
        "structure_test.add(Conv1D(filters=100, kernel_size=2, padding='valid', activation='relu', strides=1))\n",
        "structure_test.add(GlobalMaxPooling1D())\n",
        "structure_test.summary()"
      ]
    },
    {
      "cell_type": "markdown",
      "metadata": {
        "id": "kii2XoGrC334"
      },
      "source": [
        "Now, let's define a simple CNN going through bigrams on a tweet. The output from global max pooling layer will be fed to a fully connected layer, then finally the output layer. Again I will try three different inputs, static word vectors extracted from Word2Vec, word embedding being learned from scratch with embedding layer, Word2Vec word vectors being updated through training."
      ]
    },
    {
      "cell_type": "code",
      "execution_count": null,
      "metadata": {
        "id": "BNm22dsYC334",
        "outputId": "90c839ec-485e-41b5-b494-e8d4bc489001"
      },
      "outputs": [
        {
          "name": "stdout",
          "output_type": "stream",
          "text": [
            "Train on 1564098 samples, validate on 15960 samples\n",
            "Epoch 1/5\n",
            " - 873s - loss: 0.4178 - acc: 0.8069 - val_loss: 0.4063 - val_acc: 0.8180\n",
            "Epoch 2/5\n",
            " - 876s - loss: 0.3976 - acc: 0.8187 - val_loss: 0.4017 - val_acc: 0.8196\n",
            "Epoch 3/5\n",
            " - 981s - loss: 0.3911 - acc: 0.8228 - val_loss: 0.3943 - val_acc: 0.8221\n",
            "Epoch 4/5\n",
            " - 1013s - loss: 0.3873 - acc: 0.8248 - val_loss: 0.3932 - val_acc: 0.8220\n",
            "Epoch 5/5\n",
            " - 1012s - loss: 0.3850 - acc: 0.8261 - val_loss: 0.3953 - val_acc: 0.8209\n"
          ]
        },
        {
          "data": {
            "text/plain": [
              "<keras.callbacks.History at 0x1b447cb90>"
            ]
          },
          "execution_count": 104,
          "metadata": {},
          "output_type": "execute_result"
        }
      ],
      "source": [
        "model_cnn_01 = Sequential()\n",
        "e = Embedding(100000, 200, weights=[embedding_matrix], input_length=45, trainable=False)\n",
        "model_cnn_01.add(e)\n",
        "model_cnn_01.add(Conv1D(filters=100, kernel_size=2, padding='valid', activation='relu', strides=1))\n",
        "model_cnn_01.add(GlobalMaxPooling1D())\n",
        "model_cnn_01.add(Dense(256, activation='relu'))\n",
        "model_cnn_01.add(Dense(1, activation='sigmoid'))\n",
        "model_cnn_01.compile(loss='binary_crossentropy', optimizer='adam', metrics=['accuracy'])\n",
        "model_cnn_01.fit(x_train_seq, y_train, validation_data=(x_val_seq, y_validation), epochs=5, batch_size=32, verbose=2)"
      ]
    },
    {
      "cell_type": "code",
      "execution_count": null,
      "metadata": {
        "id": "FJFiJZCnC334",
        "outputId": "f09f8a49-5a08-405b-8971-6774a33753d3"
      },
      "outputs": [
        {
          "name": "stdout",
          "output_type": "stream",
          "text": [
            "Train on 1564098 samples, validate on 15960 samples\n",
            "Epoch 1/5\n",
            " - 11835s - loss: 0.4098 - acc: 0.8121 - val_loss: 0.3910 - val_acc: 0.8244\n",
            "Epoch 2/5\n",
            " - 11324s - loss: 0.3626 - acc: 0.8391 - val_loss: 0.3883 - val_acc: 0.8258\n",
            "Epoch 3/5\n",
            " - 11300s - loss: 0.3315 - acc: 0.8566 - val_loss: 0.3955 - val_acc: 0.8271\n",
            "Epoch 4/5\n",
            " - 11425s - loss: 0.3031 - acc: 0.8714 - val_loss: 0.4056 - val_acc: 0.8245\n",
            "Epoch 5/5\n",
            " - 11222s - loss: 0.2770 - acc: 0.8846 - val_loss: 0.4341 - val_acc: 0.8162\n"
          ]
        },
        {
          "data": {
            "text/plain": [
              "<keras.callbacks.History at 0x1ebe0ea90>"
            ]
          },
          "execution_count": 105,
          "metadata": {},
          "output_type": "execute_result"
        }
      ],
      "source": [
        "model_cnn_02 = Sequential()\n",
        "e = Embedding(100000, 200, input_length=45)\n",
        "model_cnn_02.add(e)\n",
        "model_cnn_02.add(Conv1D(filters=100, kernel_size=2, padding='valid', activation='relu', strides=1))\n",
        "model_cnn_02.add(GlobalMaxPooling1D())\n",
        "model_cnn_02.add(Dense(256, activation='relu'))\n",
        "model_cnn_02.add(Dense(1, activation='sigmoid'))\n",
        "model_cnn_02.compile(loss='binary_crossentropy', optimizer='adam', metrics=['accuracy'])\n",
        "model_cnn_02.fit(x_train_seq, y_train, validation_data=(x_val_seq, y_validation), epochs=5, batch_size=32, verbose=2)"
      ]
    },
    {
      "cell_type": "code",
      "execution_count": null,
      "metadata": {
        "id": "h1gDyYvxC334",
        "outputId": "ac50033f-6d95-4263-a2bb-d66681ea6060"
      },
      "outputs": [
        {
          "name": "stdout",
          "output_type": "stream",
          "text": [
            "Train on 1564098 samples, validate on 15960 samples\n",
            "Epoch 1/5\n",
            " - 11111s - loss: 0.4024 - acc: 0.8164 - val_loss: 0.3864 - val_acc: 0.8274\n",
            "Epoch 2/5\n",
            " - 12249s - loss: 0.3655 - acc: 0.8372 - val_loss: 0.3805 - val_acc: 0.8299\n",
            "Epoch 3/5\n",
            " - 12974s - loss: 0.3405 - acc: 0.8513 - val_loss: 0.3803 - val_acc: 0.8325\n",
            "Epoch 4/5\n",
            " - 11721s - loss: 0.3164 - acc: 0.8644 - val_loss: 0.3897 - val_acc: 0.8293\n",
            "Epoch 5/5\n",
            " - 12050s - loss: 0.2931 - acc: 0.8760 - val_loss: 0.4134 - val_acc: 0.8228\n"
          ]
        },
        {
          "data": {
            "text/plain": [
              "<keras.callbacks.History at 0x1b48d2a90>"
            ]
          },
          "execution_count": 106,
          "metadata": {},
          "output_type": "execute_result"
        }
      ],
      "source": [
        "model_cnn_03 = Sequential()\n",
        "e = Embedding(100000, 200, weights=[embedding_matrix], input_length=45, trainable=True)\n",
        "model_cnn_03.add(e)\n",
        "model_cnn_03.add(Conv1D(filters=100, kernel_size=2, padding='valid', activation='relu', strides=1))\n",
        "model_cnn_03.add(GlobalMaxPooling1D())\n",
        "model_cnn_03.add(Dense(256, activation='relu'))\n",
        "model_cnn_03.add(Dense(1, activation='sigmoid'))\n",
        "model_cnn_03.compile(loss='binary_crossentropy', optimizer='adam', metrics=['accuracy'])\n",
        "model_cnn_03.fit(x_train_seq, y_train, validation_data=(x_val_seq, y_validation), epochs=5, batch_size=32, verbose=2)"
      ]
    },
    {
      "cell_type": "code",
      "execution_count": null,
      "metadata": {
        "id": "qkQ2aKHhC339",
        "outputId": "55f332b9-bdc1-4886-95f8-d2da60b71261"
      },
      "outputs": [
        {
          "name": "stdout",
          "output_type": "stream",
          "text": [
            "__________________________________________________________________________________________________\n",
            "Layer (type)                    Output Shape         Param #     Connected to                     \n",
            "==================================================================================================\n",
            "input_7 (InputLayer)            (None, 45)           0                                            \n",
            "__________________________________________________________________________________________________\n",
            "embedding_59 (Embedding)        (None, 45, 200)      20000000    input_7[0][0]                    \n",
            "__________________________________________________________________________________________________\n",
            "conv1d_66 (Conv1D)              (None, 44, 100)      40100       embedding_59[0][0]               \n",
            "__________________________________________________________________________________________________\n",
            "conv1d_67 (Conv1D)              (None, 43, 100)      60100       embedding_59[0][0]               \n",
            "__________________________________________________________________________________________________\n",
            "conv1d_68 (Conv1D)              (None, 42, 100)      80100       embedding_59[0][0]               \n",
            "__________________________________________________________________________________________________\n",
            "global_max_pooling1d_47 (Global (None, 100)          0           conv1d_66[0][0]                  \n",
            "__________________________________________________________________________________________________\n",
            "global_max_pooling1d_48 (Global (None, 100)          0           conv1d_67[0][0]                  \n",
            "__________________________________________________________________________________________________\n",
            "global_max_pooling1d_49 (Global (None, 100)          0           conv1d_68[0][0]                  \n",
            "__________________________________________________________________________________________________\n",
            "concatenate_8 (Concatenate)     (None, 300)          0           global_max_pooling1d_47[0][0]    \n",
            "                                                                 global_max_pooling1d_48[0][0]    \n",
            "                                                                 global_max_pooling1d_49[0][0]    \n",
            "__________________________________________________________________________________________________\n",
            "dense_52 (Dense)                (None, 256)          77056       concatenate_8[0][0]              \n",
            "__________________________________________________________________________________________________\n",
            "dropout_6 (Dropout)             (None, 256)          0           dense_52[0][0]                   \n",
            "__________________________________________________________________________________________________\n",
            "dense_53 (Dense)                (None, 1)            257         dropout_6[0][0]                  \n",
            "__________________________________________________________________________________________________\n",
            "activation_4 (Activation)       (None, 1)            0           dense_53[0][0]                   \n",
            "==================================================================================================\n",
            "Total params: 20,257,613\n",
            "Trainable params: 20,257,613\n",
            "Non-trainable params: 0\n",
            "__________________________________________________________________________________________________\n"
          ]
        }
      ],
      "source": [
        "from keras.layers import Input, Dense, concatenate, Activation\n",
        "from keras.models import Model\n",
        "\n",
        "tweet_input = Input(shape=(45,), dtype='int32')\n",
        "\n",
        "tweet_encoder = Embedding(100000, 200, weights=[embedding_matrix], input_length=45, trainable=True)(tweet_input)\n",
        "bigram_branch = Conv1D(filters=100, kernel_size=2, padding='valid', activation='relu', strides=1)(tweet_encoder)\n",
        "bigram_branch = GlobalMaxPooling1D()(bigram_branch)\n",
        "trigram_branch = Conv1D(filters=100, kernel_size=3, padding='valid', activation='relu', strides=1)(tweet_encoder)\n",
        "trigram_branch = GlobalMaxPooling1D()(trigram_branch)\n",
        "fourgram_branch = Conv1D(filters=100, kernel_size=4, padding='valid', activation='relu', strides=1)(tweet_encoder)\n",
        "fourgram_branch = GlobalMaxPooling1D()(fourgram_branch)\n",
        "merged = concatenate([bigram_branch, trigram_branch, fourgram_branch], axis=1)\n",
        "\n",
        "merged = Dense(256, activation='relu')(merged)\n",
        "merged = Dropout(0.2)(merged)\n",
        "merged = Dense(1)(merged)\n",
        "output = Activation('sigmoid')(merged)\n",
        "model = Model(inputs=[tweet_input], outputs=[output])\n",
        "model.compile(loss='binary_crossentropy',\n",
        "                  optimizer='adam',\n",
        "                  metrics=['accuracy'])\n",
        "model.summary()"
      ]
    },
    {
      "cell_type": "code",
      "execution_count": null,
      "metadata": {
        "id": "aFuC9_EXC33-",
        "outputId": "8ad0968c-e123-4077-aab5-b0518965bec0"
      },
      "outputs": [
        {
          "name": "stdout",
          "output_type": "stream",
          "text": [
            "Train on 1564098 samples, validate on 15960 samples\n",
            "Epoch 1/5\n",
            "1564096/1564098 [============================>.] - ETA: 0s - loss: 0.4028 - acc: 0.8183Epoch 00001: val_acc improved from -inf to 0.83152, saving model to CNN_best_weights.01-0.8315.hdf5\n",
            "1564098/1564098 [==============================] - 15337s 10ms/step - loss: 0.4028 - acc: 0.8183 - val_loss: 0.3812 - val_acc: 0.8315\n",
            "Epoch 2/5\n",
            "1564096/1564098 [============================>.] - ETA: 0s - loss: 0.3655 - acc: 0.8399Epoch 00002: val_acc improved from 0.83152 to 0.83327, saving model to CNN_best_weights.02-0.8333.hdf5\n",
            "1564098/1564098 [==============================] - 15819s 10ms/step - loss: 0.3655 - acc: 0.8399 - val_loss: 0.3751 - val_acc: 0.8333\n",
            "Epoch 3/5\n",
            "1564096/1564098 [============================>.] - ETA: 0s - loss: 0.3381 - acc: 0.8541Epoch 00003: val_acc did not improve\n",
            "1564098/1564098 [==============================] - 17413s 11ms/step - loss: 0.3381 - acc: 0.8541 - val_loss: 0.3856 - val_acc: 0.8294\n",
            "Epoch 4/5\n",
            "1564096/1564098 [============================>.] - ETA: 0s - loss: 0.3094 - acc: 0.8685Epoch 00004: val_acc did not improve\n",
            "1564098/1564098 [==============================] - 16826s 11ms/step - loss: 0.3094 - acc: 0.8685 - val_loss: 0.3916 - val_acc: 0.8305\n",
            "Epoch 5/5\n",
            "1564096/1564098 [============================>.] - ETA: 0s - loss: 0.2797 - acc: 0.8829Epoch 00005: val_acc did not improve\n",
            "1564098/1564098 [==============================] - 16517s 11ms/step - loss: 0.2797 - acc: 0.8829 - val_loss: 0.4120 - val_acc: 0.8256\n"
          ]
        },
        {
          "data": {
            "text/plain": [
              "<keras.callbacks.History at 0x28ac02450>"
            ]
          },
          "execution_count": 124,
          "metadata": {},
          "output_type": "execute_result"
        }
      ],
      "source": [
        "from keras.callbacks import ModelCheckpoint\n",
        "\n",
        "filepath=\"CNN_best_weights.{epoch:02d}-{val_acc:.4f}.hdf5\"\n",
        "checkpoint = ModelCheckpoint(filepath, monitor='val_acc', verbose=1, save_best_only=True, mode='max')\n",
        "\n",
        "model.fit(x_train_seq, y_train, batch_size=32, epochs=5,\n",
        "                     validation_data=(x_val_seq, y_validation), callbacks = [checkpoint])"
      ]
    },
    {
      "cell_type": "code",
      "execution_count": null,
      "metadata": {
        "id": "3BW0hvXjC33-",
        "outputId": "b3bb3018-b1c0-4b28-8ecf-ca403e1e2a0b"
      },
      "outputs": [
        {
          "name": "stdout",
          "output_type": "stream",
          "text": [
            "15960/15960 [==============================] - 10s 640us/step\n"
          ]
        },
        {
          "data": {
            "text/plain": [
              "[0.3751017113078507, 0.8332706766917293]"
            ]
          },
          "execution_count": 125,
          "metadata": {},
          "output_type": "execute_result"
        }
      ],
      "source": [
        "from keras.models import load_model\n",
        "loaded_CNN_model = load_model('CNN_best_weights.02-0.8333.hdf5')\n",
        "loaded_CNN_model.evaluate(x=x_val_seq, y=y_validation)"
      ]
    },
    {
      "cell_type": "markdown",
      "metadata": {
        "id": "uabjqgC1C33-"
      },
      "source": [
        "The best validation accuracy is 83.33%, slightly better than the simple CNN model with bigram filters, which yielded 83.25% validation accuracy. "
      ]
    },
    {
      "cell_type": "markdown",
      "metadata": {
        "id": "aTHkSEWiC33-"
      },
      "source": [
        "## Final Model Evaluation with Test Set"
      ]
    },
    {
      "cell_type": "markdown",
      "metadata": {
        "id": "lRmjiH73C33-"
      },
      "source": [
        "So far I have tested the model on the validation set to decide the feature extraction tuning and model comparison. Now I will finally check the final result with the test set. I will compare two different models: 1. Tf-Idf + logistic regression, 2. Word2Vec + CNN. As another measure for comparison, I will also plot ROC curve of both models."
      ]
    },
    {
      "cell_type": "code",
      "execution_count": null,
      "metadata": {
        "id": "mGOM2p9rC33-",
        "outputId": "bf366f94-845d-4422-f26d-eb87c6ecaf99"
      },
      "outputs": [
        {
          "data": {
            "text/plain": [
              "TfidfVectorizer(analyzer=u'word', binary=False, decode_error=u'strict',\n",
              "        dtype=<type 'numpy.int64'>, encoding=u'utf-8', input=u'content',\n",
              "        lowercase=True, max_df=1.0, max_features=100000, min_df=1,\n",
              "        ngram_range=(1, 3), norm=u'l2', preprocessor=None, smooth_idf=True,\n",
              "        stop_words=None, strip_accents=None, sublinear_tf=False,\n",
              "        token_pattern=u'(?u)\\\\b\\\\w\\\\w+\\\\b', tokenizer=None, use_idf=True,\n",
              "        vocabulary=None)"
            ]
          },
          "execution_count": 128,
          "metadata": {},
          "output_type": "execute_result"
        }
      ],
      "source": [
        "from sklearn.feature_extraction.text import TfidfVectorizer\n",
        "tvec = TfidfVectorizer(max_features=100000,ngram_range=(1, 3))\n",
        "tvec.fit(x_train)"
      ]
    },
    {
      "cell_type": "code",
      "execution_count": null,
      "metadata": {
        "id": "GIh9SAvBC33-",
        "outputId": "b78612d1-04fb-449f-d23b-4f72dcccdb35"
      },
      "outputs": [
        {
          "name": "stderr",
          "output_type": "stream",
          "text": [
            "/anaconda2/lib/python2.7/site-packages/sklearn/feature_extraction/text.py:1089: FutureWarning: Conversion of the second argument of issubdtype from `float` to `np.floating` is deprecated. In future, it will be treated as `np.float64 == np.dtype(float).type`.\n",
            "  if hasattr(X, 'dtype') and np.issubdtype(X.dtype, np.float):\n"
          ]
        }
      ],
      "source": [
        "x_train_tfidf = tvec.transform(x_train)\n",
        "x_test_tfidf = tvec.transform(x_test)"
      ]
    },
    {
      "cell_type": "code",
      "execution_count": null,
      "metadata": {
        "id": "cxIs-veCC33_",
        "outputId": "02b17fb8-97aa-4c25-ddc6-3d42d1b0bb57"
      },
      "outputs": [
        {
          "data": {
            "text/plain": [
              "LogisticRegression(C=1.0, class_weight=None, dual=False, fit_intercept=True,\n",
              "          intercept_scaling=1, max_iter=100, multi_class='ovr', n_jobs=1,\n",
              "          penalty='l2', random_state=None, solver='liblinear', tol=0.0001,\n",
              "          verbose=0, warm_start=False)"
            ]
          },
          "execution_count": 130,
          "metadata": {},
          "output_type": "execute_result"
        }
      ],
      "source": [
        "lr_with_tfidf = LogisticRegression()\n",
        "lr_with_tfidf.fit(x_train_tfidf,y_train)"
      ]
    },
    {
      "cell_type": "code",
      "execution_count": null,
      "metadata": {
        "id": "DroE5UKlC33_",
        "outputId": "8f6b3fc5-962a-4ea5-a21e-5d8ec097add5"
      },
      "outputs": [
        {
          "data": {
            "text/plain": [
              "0.8329678591566945"
            ]
          },
          "execution_count": 131,
          "metadata": {},
          "output_type": "execute_result"
        }
      ],
      "source": [
        "lr_with_tfidf.score(x_test_tfidf,y_test)"
      ]
    },
    {
      "cell_type": "code",
      "execution_count": null,
      "metadata": {
        "collapsed": true,
        "id": "mifV9o_wC33_"
      },
      "outputs": [],
      "source": [
        "yhat_lr = lr_with_tfidf.predict_proba(x_test_tfidf)"
      ]
    },
    {
      "cell_type": "code",
      "execution_count": null,
      "metadata": {
        "collapsed": true,
        "id": "fa_pUQo_C33_"
      },
      "outputs": [],
      "source": [
        "sequences_test = tokenizer.texts_to_sequences(x_test)\n",
        "x_test_seq = pad_sequences(sequences_test, maxlen=45)"
      ]
    },
    {
      "cell_type": "code",
      "execution_count": null,
      "metadata": {
        "id": "L7mYS5kjC33_",
        "outputId": "e2261ca3-e9ed-4f53-e716-36b97d29c1c0"
      },
      "outputs": [
        {
          "name": "stdout",
          "output_type": "stream",
          "text": [
            "15961/15961 [==============================] - 13s 844us/step\n"
          ]
        },
        {
          "data": {
            "text/plain": [
              "[0.3629236272231923, 0.8386066035813283]"
            ]
          },
          "execution_count": 134,
          "metadata": {},
          "output_type": "execute_result"
        }
      ],
      "source": [
        "loaded_CNN_model.evaluate(x=x_test_seq, y=y_test)"
      ]
    },
    {
      "cell_type": "code",
      "execution_count": null,
      "metadata": {
        "collapsed": true,
        "id": "TA-u_9sFC33_"
      },
      "outputs": [],
      "source": [
        "yhat_cnn = loaded_CNN_model.predict(x_test_seq)"
      ]
    },
    {
      "cell_type": "code",
      "execution_count": null,
      "metadata": {
        "id": "FrScE71ZC33_",
        "outputId": "9d304974-916e-414c-9389-5b36bf39296e"
      },
      "outputs": [
        {
          "data": {
            "image/png": "[encoded data removed]",
            "text/plain": [
              "<matplotlib.figure.Figure at 0x376dbf750>"
            ]
          },
          "metadata": {
            "image/png": {
              "height": 448,
              "width": 563
            }
          },
          "output_type": "display_data"
        }
      ],
      "source": [
        "from sklearn.metrics import roc_curve, auc\n",
        "fpr, tpr, threshold = roc_curve(y_test, yhat_lr[:,1])\n",
        "roc_auc = auc(fpr, tpr)\n",
        "fpr_cnn, tpr_cnn, threshold = roc_curve(y_test, yhat_cnn)\n",
        "roc_auc_nn = auc(fpr_cnn, tpr_cnn)\n",
        "plt.figure(figsize=(8,7))\n",
        "plt.plot(fpr, tpr, label='tfidf-logit (area = %0.3f)' % roc_auc, linewidth=2)\n",
        "plt.plot(fpr_cnn, tpr_cnn, label='w2v-CNN (area = %0.3f)' % roc_auc_nn, linewidth=2)\n",
        "\n",
        "plt.plot([0, 1], [0, 1], 'k--', linewidth=2)\n",
        "plt.xlim([-0.05, 1.0])\n",
        "plt.ylim([-0.05, 1.05])\n",
        "plt.xlabel('False Positive Rate', fontsize=18)\n",
        "plt.ylabel('True Positive Rate', fontsize=18)\n",
        "plt.title('Receiver operating characteristic: is positive', fontsize=18)\n",
        "plt.legend(loc=\"lower right\")\n",
        "plt.show()"
      ]
    },
    {
      "cell_type": "markdown",
      "metadata": {
        "id": "MA2z2a5-C33_"
      },
      "source": [
        "And the final result is as below."
      ]
    },
    {
      "cell_type": "markdown",
      "metadata": {
        "id": "-9PT1UNwC33_"
      },
      "source": [
        "| model | validation set accuracy | test set accuracy | ROC AUC |\n",
        "|--|--|--|--|--|--|\n",
        "|Tf-Idf + logistic regression | 82.91% | 83.30% | 0.91 |\n",
        "|Word2Vec + CNN | 83.33% | 83.86% | 0.92 |"
      ]
    }
  ],
  "metadata": {
    "kernelspec": {
      "display_name": "Python 2",
      "language": "python",
      "name": "python2"
    },
    "language_info": {
      "codemirror_mode": {
        "name": "ipython",
        "version": 2
      },
      "file_extension": ".py",
      "mimetype": "text/x-python",
      "name": "python",
      "nbconvert_exporter": "python",
      "pygments_lexer": "ipython2",
      "version": "2.7.13"
    },
    "colab": {
      "provenance": []
    }
  },
  "nbformat": 4,
  "nbformat_minor": 0
}