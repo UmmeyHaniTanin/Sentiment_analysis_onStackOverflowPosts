{
  "cells": [
    {
      "cell_type": "markdown",
      "metadata": {
        "id": "_60k27Go_SG7"
      },
      "source": [
        "# Data Preparation"
      ]
    },
    {
      "cell_type": "markdown",
      "metadata": {
        "id": "TIA_uLoz_SG-"
      },
      "source": [
        "## First look at the data"
      ]
    },
    {
      "cell_type": "code",
      "execution_count": null,
      "metadata": {
        "collapsed": true,
        "id": "qJnTE47J_SG-"
      },
      "outputs": [],
      "source": [
        "import pandas as pd  \n",
        "import numpy as np\n",
        "import matplotlib.pyplot as plt\n",
        "plt.style.use('fivethirtyeight')\n",
        "\n",
        "%matplotlib inline\n",
        "%config InlineBackend.figure_format = 'retina'"
      ]
    },
    {
      "cell_type": "markdown",
      "metadata": {
        "id": "dG5pT7qF_SHA"
      },
      "source": [
        "First, columns names have been assigned to each column."
      ]
    },
    {
      "cell_type": "code",
      "execution_count": null,
      "metadata": {
        "collapsed": true,
        "id": "r9jgO2P8_SHA"
      },
      "outputs": [],
      "source": [
        "cols = ['id','sentiment','text']"
      ]
    },
    {
      "cell_type": "code",
      "source": [
        "df = pd.read_csv(\"/content/sample_data/StackOverflow.csv\")"
      ],
      "metadata": {
        "id": "epylW0r8D579"
      },
      "execution_count": null,
      "outputs": []
    },
    {
      "cell_type": "code",
      "execution_count": null,
      "metadata": {
        "colab": {
          "base_uri": "https://localhost:8080/",
          "height": 206
        },
        "id": "kcCW6U-E_SHB",
        "outputId": "f2fb87cb-d77c-41de-86bd-077245fd0b44"
      },
      "outputs": [
        {
          "output_type": "execute_result",
          "data": {
            "text/plain": [
              "    id  sentiment                                               text\n",
              "0    6         -1                     But sadly this is not working.\n",
              "1   78         -1  So, everything builds fine, but when we try to...\n",
              "2   90         -1  That is what is causing your null pointer exce...\n",
              "3  139         -1  All attempts I've made were, in a shortcut, un...\n",
              "4  162         -1                                         Don't use."
            ],
            "text/html": [
              "\n",
              "  <div id=\"df-bd1fac83-9e88-41c2-955a-35c1d18c9aaf\">\n",
              "    <div class=\"colab-df-container\">\n",
              "      <div>\n",
              "<style scoped>\n",
              "    .dataframe tbody tr th:only-of-type {\n",
              "        vertical-align: middle;\n",
              "    }\n",
              "\n",
              "    .dataframe tbody tr th {\n",
              "        vertical-align: top;\n",
              "    }\n",
              "\n",
              "    .dataframe thead th {\n",
              "        text-align: right;\n",
              "    }\n",
              "</style>\n",
              "<table border=\"1\" class=\"dataframe\">\n",
              "  <thead>\n",
              "    <tr style=\"text-align: right;\">\n",
              "      <th></th>\n",
              "      <th>id</th>\n",
              "      <th>sentiment</th>\n",
              "      <th>text</th>\n",
              "    </tr>\n",
              "  </thead>\n",
              "  <tbody>\n",
              "    <tr>\n",
              "      <th>0</th>\n",
              "      <td>6</td>\n",
              "      <td>-1</td>\n",
              "      <td>But sadly this is not working.</td>\n",
              "    </tr>\n",
              "    <tr>\n",
              "      <th>1</th>\n",
              "      <td>78</td>\n",
              "      <td>-1</td>\n",
              "      <td>So, everything builds fine, but when we try to...</td>\n",
              "    </tr>\n",
              "    <tr>\n",
              "      <th>2</th>\n",
              "      <td>90</td>\n",
              "      <td>-1</td>\n",
              "      <td>That is what is causing your null pointer exce...</td>\n",
              "    </tr>\n",
              "    <tr>\n",
              "      <th>3</th>\n",
              "      <td>139</td>\n",
              "      <td>-1</td>\n",
              "      <td>All attempts I've made were, in a shortcut, un...</td>\n",
              "    </tr>\n",
              "    <tr>\n",
              "      <th>4</th>\n",
              "      <td>162</td>\n",
              "      <td>-1</td>\n",
              "      <td>Don't use.</td>\n",
              "    </tr>\n",
              "  </tbody>\n",
              "</table>\n",
              "</div>\n",
              "      <button class=\"colab-df-convert\" onclick=\"convertToInteractive('df-bd1fac83-9e88-41c2-955a-35c1d18c9aaf')\"\n",
              "              title=\"Convert this dataframe to an interactive table.\"\n",
              "              style=\"display:none;\">\n",
              "        \n",
              "  <svg xmlns=\"http://www.w3.org/2000/svg\" height=\"24px\"viewBox=\"0 0 24 24\"\n",
              "       width=\"24px\">\n",
              "    <path d=\"M0 0h24v24H0V0z\" fill=\"none\"/>\n",
              "    <path d=\"M18.56 5.44l.94 2.06.94-2.06 2.06-.94-2.06-.94-.94-2.06-.94 2.06-2.06.94zm-11 1L8.5 8.5l.94-2.06 2.06-.94-2.06-.94L8.5 2.5l-.94 2.06-2.06.94zm10 10l.94 2.06.94-2.06 2.06-.94-2.06-.94-.94-2.06-.94 2.06-2.06.94z\"/><path d=\"M17.41 7.96l-1.37-1.37c-.4-.4-.92-.59-1.43-.59-.52 0-1.04.2-1.43.59L10.3 9.45l-7.72 7.72c-.78.78-.78 2.05 0 2.83L4 21.41c.39.39.9.59 1.41.59.51 0 1.02-.2 1.41-.59l7.78-7.78 2.81-2.81c.8-.78.8-2.07 0-2.86zM5.41 20L4 18.59l7.72-7.72 1.47 1.35L5.41 20z\"/>\n",
              "  </svg>\n",
              "      </button>\n",
              "      \n",
              "  <style>\n",
              "    .colab-df-container {\n",
              "      display:flex;\n",
              "      flex-wrap:wrap;\n",
              "      gap: 12px;\n",
              "    }\n",
              "\n",
              "    .colab-df-convert {\n",
              "      background-color: #E8F0FE;\n",
              "      border: none;\n",
              "      border-radius: 50%;\n",
              "      cursor: pointer;\n",
              "      display: none;\n",
              "      fill: #1967D2;\n",
              "      height: 32px;\n",
              "      padding: 0 0 0 0;\n",
              "      width: 32px;\n",
              "    }\n",
              "\n",
              "    .colab-df-convert:hover {\n",
              "      background-color: #E2EBFA;\n",
              "      box-shadow: 0px 1px 2px rgba(60, 64, 67, 0.3), 0px 1px 3px 1px rgba(60, 64, 67, 0.15);\n",
              "      fill: #174EA6;\n",
              "    }\n",
              "\n",
              "    [theme=dark] .colab-df-convert {\n",
              "      background-color: #3B4455;\n",
              "      fill: #D2E3FC;\n",
              "    }\n",
              "\n",
              "    [theme=dark] .colab-df-convert:hover {\n",
              "      background-color: #434B5C;\n",
              "      box-shadow: 0px 1px 3px 1px rgba(0, 0, 0, 0.15);\n",
              "      filter: drop-shadow(0px 1px 2px rgba(0, 0, 0, 0.3));\n",
              "      fill: #FFFFFF;\n",
              "    }\n",
              "  </style>\n",
              "\n",
              "      <script>\n",
              "        const buttonEl =\n",
              "          document.querySelector('#df-bd1fac83-9e88-41c2-955a-35c1d18c9aaf button.colab-df-convert');\n",
              "        buttonEl.style.display =\n",
              "          google.colab.kernel.accessAllowed ? 'block' : 'none';\n",
              "\n",
              "        async function convertToInteractive(key) {\n",
              "          const element = document.querySelector('#df-bd1fac83-9e88-41c2-955a-35c1d18c9aaf');\n",
              "          const dataTable =\n",
              "            await google.colab.kernel.invokeFunction('convertToInteractive',\n",
              "                                                     [key], {});\n",
              "          if (!dataTable) return;\n",
              "\n",
              "          const docLinkHtml = 'Like what you see? Visit the ' +\n",
              "            '<a target=\"_blank\" href=https://colab.research.google.com/notebooks/data_table.ipynb>data table notebook</a>'\n",
              "            + ' to learn more about interactive tables.';\n",
              "          element.innerHTML = '';\n",
              "          dataTable['output_type'] = 'display_data';\n",
              "          await google.colab.output.renderOutput(dataTable, element);\n",
              "          const docLink = document.createElement('div');\n",
              "          docLink.innerHTML = docLinkHtml;\n",
              "          element.appendChild(docLink);\n",
              "        }\n",
              "      </script>\n",
              "    </div>\n",
              "  </div>\n",
              "  "
            ]
          },
          "metadata": {},
          "execution_count": 5
        }
      ],
      "source": [
        "df.head()"
      ]
    },
    {
      "cell_type": "code",
      "execution_count": null,
      "metadata": {
        "colab": {
          "base_uri": "https://localhost:8080/"
        },
        "id": "3RCV5bNB_SHC",
        "outputId": "0633a059-70df-4b19-9500-35177aa987a8"
      },
      "outputs": [
        {
          "output_type": "stream",
          "name": "stdout",
          "text": [
            "<class 'pandas.core.frame.DataFrame'>\n",
            "RangeIndex: 1500 entries, 0 to 1499\n",
            "Data columns (total 3 columns):\n",
            " #   Column     Non-Null Count  Dtype \n",
            "---  ------     --------------  ----- \n",
            " 0   id         1500 non-null   int64 \n",
            " 1   sentiment  1500 non-null   int64 \n",
            " 2   text       1500 non-null   object\n",
            "dtypes: int64(2), object(1)\n",
            "memory usage: 35.3+ KB\n"
          ]
        }
      ],
      "source": [
        "df.info()"
      ]
    },
    {
      "cell_type": "code",
      "execution_count": null,
      "metadata": {
        "colab": {
          "base_uri": "https://localhost:8080/"
        },
        "id": "q2bpM3BH_SHC",
        "outputId": "db3749dc-2f83-4557-aecd-a17c80b401f9"
      },
      "outputs": [
        {
          "output_type": "execute_result",
          "data": {
            "text/plain": [
              " 0    1191\n",
              "-1     178\n",
              " 1     131\n",
              "Name: sentiment, dtype: int64"
            ]
          },
          "metadata": {},
          "execution_count": 7
        }
      ],
      "source": [
        "df.sentiment.value_counts()"
      ]
    },
    {
      "cell_type": "code",
      "execution_count": null,
      "metadata": {
        "collapsed": true,
        "id": "w5TUKquy_SHD"
      },
      "outputs": [],
      "source": [
        "df.drop(['id'],axis=1,inplace=True)"
      ]
    },
    {
      "cell_type": "code",
      "execution_count": null,
      "metadata": {
        "colab": {
          "base_uri": "https://localhost:8080/",
          "height": 206
        },
        "id": "CFh8aoRJ_SHE",
        "outputId": "6bdee342-c14e-411c-e35a-a4e67badedff"
      },
      "outputs": [
        {
          "output_type": "execute_result",
          "data": {
            "text/plain": [
              "   sentiment                                               text\n",
              "0         -1                     But sadly this is not working.\n",
              "1         -1  So, everything builds fine, but when we try to...\n",
              "2         -1  That is what is causing your null pointer exce...\n",
              "3         -1  All attempts I've made were, in a shortcut, un...\n",
              "4         -1                                         Don't use."
            ],
            "text/html": [
              "\n",
              "  <div id=\"df-8ae9b97f-ddaf-4ab5-8ab7-a21d8d906856\">\n",
              "    <div class=\"colab-df-container\">\n",
              "      <div>\n",
              "<style scoped>\n",
              "    .dataframe tbody tr th:only-of-type {\n",
              "        vertical-align: middle;\n",
              "    }\n",
              "\n",
              "    .dataframe tbody tr th {\n",
              "        vertical-align: top;\n",
              "    }\n",
              "\n",
              "    .dataframe thead th {\n",
              "        text-align: right;\n",
              "    }\n",
              "</style>\n",
              "<table border=\"1\" class=\"dataframe\">\n",
              "  <thead>\n",
              "    <tr style=\"text-align: right;\">\n",
              "      <th></th>\n",
              "      <th>sentiment</th>\n",
              "      <th>text</th>\n",
              "    </tr>\n",
              "  </thead>\n",
              "  <tbody>\n",
              "    <tr>\n",
              "      <th>0</th>\n",
              "      <td>-1</td>\n",
              "      <td>But sadly this is not working.</td>\n",
              "    </tr>\n",
              "    <tr>\n",
              "      <th>1</th>\n",
              "      <td>-1</td>\n",
              "      <td>So, everything builds fine, but when we try to...</td>\n",
              "    </tr>\n",
              "    <tr>\n",
              "      <th>2</th>\n",
              "      <td>-1</td>\n",
              "      <td>That is what is causing your null pointer exce...</td>\n",
              "    </tr>\n",
              "    <tr>\n",
              "      <th>3</th>\n",
              "      <td>-1</td>\n",
              "      <td>All attempts I've made were, in a shortcut, un...</td>\n",
              "    </tr>\n",
              "    <tr>\n",
              "      <th>4</th>\n",
              "      <td>-1</td>\n",
              "      <td>Don't use.</td>\n",
              "    </tr>\n",
              "  </tbody>\n",
              "</table>\n",
              "</div>\n",
              "      <button class=\"colab-df-convert\" onclick=\"convertToInteractive('df-8ae9b97f-ddaf-4ab5-8ab7-a21d8d906856')\"\n",
              "              title=\"Convert this dataframe to an interactive table.\"\n",
              "              style=\"display:none;\">\n",
              "        \n",
              "  <svg xmlns=\"http://www.w3.org/2000/svg\" height=\"24px\"viewBox=\"0 0 24 24\"\n",
              "       width=\"24px\">\n",
              "    <path d=\"M0 0h24v24H0V0z\" fill=\"none\"/>\n",
              "    <path d=\"M18.56 5.44l.94 2.06.94-2.06 2.06-.94-2.06-.94-.94-2.06-.94 2.06-2.06.94zm-11 1L8.5 8.5l.94-2.06 2.06-.94-2.06-.94L8.5 2.5l-.94 2.06-2.06.94zm10 10l.94 2.06.94-2.06 2.06-.94-2.06-.94-.94-2.06-.94 2.06-2.06.94z\"/><path d=\"M17.41 7.96l-1.37-1.37c-.4-.4-.92-.59-1.43-.59-.52 0-1.04.2-1.43.59L10.3 9.45l-7.72 7.72c-.78.78-.78 2.05 0 2.83L4 21.41c.39.39.9.59 1.41.59.51 0 1.02-.2 1.41-.59l7.78-7.78 2.81-2.81c.8-.78.8-2.07 0-2.86zM5.41 20L4 18.59l7.72-7.72 1.47 1.35L5.41 20z\"/>\n",
              "  </svg>\n",
              "      </button>\n",
              "      \n",
              "  <style>\n",
              "    .colab-df-container {\n",
              "      display:flex;\n",
              "      flex-wrap:wrap;\n",
              "      gap: 12px;\n",
              "    }\n",
              "\n",
              "    .colab-df-convert {\n",
              "      background-color: #E8F0FE;\n",
              "      border: none;\n",
              "      border-radius: 50%;\n",
              "      cursor: pointer;\n",
              "      display: none;\n",
              "      fill: #1967D2;\n",
              "      height: 32px;\n",
              "      padding: 0 0 0 0;\n",
              "      width: 32px;\n",
              "    }\n",
              "\n",
              "    .colab-df-convert:hover {\n",
              "      background-color: #E2EBFA;\n",
              "      box-shadow: 0px 1px 2px rgba(60, 64, 67, 0.3), 0px 1px 3px 1px rgba(60, 64, 67, 0.15);\n",
              "      fill: #174EA6;\n",
              "    }\n",
              "\n",
              "    [theme=dark] .colab-df-convert {\n",
              "      background-color: #3B4455;\n",
              "      fill: #D2E3FC;\n",
              "    }\n",
              "\n",
              "    [theme=dark] .colab-df-convert:hover {\n",
              "      background-color: #434B5C;\n",
              "      box-shadow: 0px 1px 3px 1px rgba(0, 0, 0, 0.15);\n",
              "      filter: drop-shadow(0px 1px 2px rgba(0, 0, 0, 0.3));\n",
              "      fill: #FFFFFF;\n",
              "    }\n",
              "  </style>\n",
              "\n",
              "      <script>\n",
              "        const buttonEl =\n",
              "          document.querySelector('#df-8ae9b97f-ddaf-4ab5-8ab7-a21d8d906856 button.colab-df-convert');\n",
              "        buttonEl.style.display =\n",
              "          google.colab.kernel.accessAllowed ? 'block' : 'none';\n",
              "\n",
              "        async function convertToInteractive(key) {\n",
              "          const element = document.querySelector('#df-8ae9b97f-ddaf-4ab5-8ab7-a21d8d906856');\n",
              "          const dataTable =\n",
              "            await google.colab.kernel.invokeFunction('convertToInteractive',\n",
              "                                                     [key], {});\n",
              "          if (!dataTable) return;\n",
              "\n",
              "          const docLinkHtml = 'Like what you see? Visit the ' +\n",
              "            '<a target=\"_blank\" href=https://colab.research.google.com/notebooks/data_table.ipynb>data table notebook</a>'\n",
              "            + ' to learn more about interactive tables.';\n",
              "          element.innerHTML = '';\n",
              "          dataTable['output_type'] = 'display_data';\n",
              "          await google.colab.output.renderOutput(dataTable, element);\n",
              "          const docLink = document.createElement('div');\n",
              "          docLink.innerHTML = docLinkHtml;\n",
              "          element.appendChild(docLink);\n",
              "        }\n",
              "      </script>\n",
              "    </div>\n",
              "  </div>\n",
              "  "
            ]
          },
          "metadata": {},
          "execution_count": 9
        }
      ],
      "source": [
        "df.head()"
      ]
    },
    {
      "cell_type": "code",
      "execution_count": null,
      "metadata": {
        "colab": {
          "base_uri": "https://localhost:8080/",
          "height": 363
        },
        "id": "kZweQ3Pw_SHE",
        "outputId": "8e0183f6-d1a4-4989-dae5-485e670c153a"
      },
      "outputs": [
        {
          "output_type": "execute_result",
          "data": {
            "text/plain": [
              "     sentiment                                               text\n",
              "178          0      Perfect would be to have in my CODE_FRAGMENT.\n",
              "179          0  and then override this with CODE_FRAGMENT so t...\n",
              "180          0  Define your production environment as default ...\n",
              "181          0  You can setup your API_NAME as filtered resour...\n",
              "182          0                                   Now you can use.\n",
              "183          0  About setting default production profile alrea...\n",
              "184          0                             So I do the following.\n",
              "185          0                                       Many thanks.\n",
              "186          0                                Use this construct.\n",
              "187          0                                 According to docs."
            ],
            "text/html": [
              "\n",
              "  <div id=\"df-bc02b97f-60db-404f-878f-59728059fbbe\">\n",
              "    <div class=\"colab-df-container\">\n",
              "      <div>\n",
              "<style scoped>\n",
              "    .dataframe tbody tr th:only-of-type {\n",
              "        vertical-align: middle;\n",
              "    }\n",
              "\n",
              "    .dataframe tbody tr th {\n",
              "        vertical-align: top;\n",
              "    }\n",
              "\n",
              "    .dataframe thead th {\n",
              "        text-align: right;\n",
              "    }\n",
              "</style>\n",
              "<table border=\"1\" class=\"dataframe\">\n",
              "  <thead>\n",
              "    <tr style=\"text-align: right;\">\n",
              "      <th></th>\n",
              "      <th>sentiment</th>\n",
              "      <th>text</th>\n",
              "    </tr>\n",
              "  </thead>\n",
              "  <tbody>\n",
              "    <tr>\n",
              "      <th>178</th>\n",
              "      <td>0</td>\n",
              "      <td>Perfect would be to have in my CODE_FRAGMENT.</td>\n",
              "    </tr>\n",
              "    <tr>\n",
              "      <th>179</th>\n",
              "      <td>0</td>\n",
              "      <td>and then override this with CODE_FRAGMENT so t...</td>\n",
              "    </tr>\n",
              "    <tr>\n",
              "      <th>180</th>\n",
              "      <td>0</td>\n",
              "      <td>Define your production environment as default ...</td>\n",
              "    </tr>\n",
              "    <tr>\n",
              "      <th>181</th>\n",
              "      <td>0</td>\n",
              "      <td>You can setup your API_NAME as filtered resour...</td>\n",
              "    </tr>\n",
              "    <tr>\n",
              "      <th>182</th>\n",
              "      <td>0</td>\n",
              "      <td>Now you can use.</td>\n",
              "    </tr>\n",
              "    <tr>\n",
              "      <th>183</th>\n",
              "      <td>0</td>\n",
              "      <td>About setting default production profile alrea...</td>\n",
              "    </tr>\n",
              "    <tr>\n",
              "      <th>184</th>\n",
              "      <td>0</td>\n",
              "      <td>So I do the following.</td>\n",
              "    </tr>\n",
              "    <tr>\n",
              "      <th>185</th>\n",
              "      <td>0</td>\n",
              "      <td>Many thanks.</td>\n",
              "    </tr>\n",
              "    <tr>\n",
              "      <th>186</th>\n",
              "      <td>0</td>\n",
              "      <td>Use this construct.</td>\n",
              "    </tr>\n",
              "    <tr>\n",
              "      <th>187</th>\n",
              "      <td>0</td>\n",
              "      <td>According to docs.</td>\n",
              "    </tr>\n",
              "  </tbody>\n",
              "</table>\n",
              "</div>\n",
              "      <button class=\"colab-df-convert\" onclick=\"convertToInteractive('df-bc02b97f-60db-404f-878f-59728059fbbe')\"\n",
              "              title=\"Convert this dataframe to an interactive table.\"\n",
              "              style=\"display:none;\">\n",
              "        \n",
              "  <svg xmlns=\"http://www.w3.org/2000/svg\" height=\"24px\"viewBox=\"0 0 24 24\"\n",
              "       width=\"24px\">\n",
              "    <path d=\"M0 0h24v24H0V0z\" fill=\"none\"/>\n",
              "    <path d=\"M18.56 5.44l.94 2.06.94-2.06 2.06-.94-2.06-.94-.94-2.06-.94 2.06-2.06.94zm-11 1L8.5 8.5l.94-2.06 2.06-.94-2.06-.94L8.5 2.5l-.94 2.06-2.06.94zm10 10l.94 2.06.94-2.06 2.06-.94-2.06-.94-.94-2.06-.94 2.06-2.06.94z\"/><path d=\"M17.41 7.96l-1.37-1.37c-.4-.4-.92-.59-1.43-.59-.52 0-1.04.2-1.43.59L10.3 9.45l-7.72 7.72c-.78.78-.78 2.05 0 2.83L4 21.41c.39.39.9.59 1.41.59.51 0 1.02-.2 1.41-.59l7.78-7.78 2.81-2.81c.8-.78.8-2.07 0-2.86zM5.41 20L4 18.59l7.72-7.72 1.47 1.35L5.41 20z\"/>\n",
              "  </svg>\n",
              "      </button>\n",
              "      \n",
              "  <style>\n",
              "    .colab-df-container {\n",
              "      display:flex;\n",
              "      flex-wrap:wrap;\n",
              "      gap: 12px;\n",
              "    }\n",
              "\n",
              "    .colab-df-convert {\n",
              "      background-color: #E8F0FE;\n",
              "      border: none;\n",
              "      border-radius: 50%;\n",
              "      cursor: pointer;\n",
              "      display: none;\n",
              "      fill: #1967D2;\n",
              "      height: 32px;\n",
              "      padding: 0 0 0 0;\n",
              "      width: 32px;\n",
              "    }\n",
              "\n",
              "    .colab-df-convert:hover {\n",
              "      background-color: #E2EBFA;\n",
              "      box-shadow: 0px 1px 2px rgba(60, 64, 67, 0.3), 0px 1px 3px 1px rgba(60, 64, 67, 0.15);\n",
              "      fill: #174EA6;\n",
              "    }\n",
              "\n",
              "    [theme=dark] .colab-df-convert {\n",
              "      background-color: #3B4455;\n",
              "      fill: #D2E3FC;\n",
              "    }\n",
              "\n",
              "    [theme=dark] .colab-df-convert:hover {\n",
              "      background-color: #434B5C;\n",
              "      box-shadow: 0px 1px 3px 1px rgba(0, 0, 0, 0.15);\n",
              "      filter: drop-shadow(0px 1px 2px rgba(0, 0, 0, 0.3));\n",
              "      fill: #FFFFFF;\n",
              "    }\n",
              "  </style>\n",
              "\n",
              "      <script>\n",
              "        const buttonEl =\n",
              "          document.querySelector('#df-bc02b97f-60db-404f-878f-59728059fbbe button.colab-df-convert');\n",
              "        buttonEl.style.display =\n",
              "          google.colab.kernel.accessAllowed ? 'block' : 'none';\n",
              "\n",
              "        async function convertToInteractive(key) {\n",
              "          const element = document.querySelector('#df-bc02b97f-60db-404f-878f-59728059fbbe');\n",
              "          const dataTable =\n",
              "            await google.colab.kernel.invokeFunction('convertToInteractive',\n",
              "                                                     [key], {});\n",
              "          if (!dataTable) return;\n",
              "\n",
              "          const docLinkHtml = 'Like what you see? Visit the ' +\n",
              "            '<a target=\"_blank\" href=https://colab.research.google.com/notebooks/data_table.ipynb>data table notebook</a>'\n",
              "            + ' to learn more about interactive tables.';\n",
              "          element.innerHTML = '';\n",
              "          dataTable['output_type'] = 'display_data';\n",
              "          await google.colab.output.renderOutput(dataTable, element);\n",
              "          const docLink = document.createElement('div');\n",
              "          docLink.innerHTML = docLinkHtml;\n",
              "          element.appendChild(docLink);\n",
              "        }\n",
              "      </script>\n",
              "    </div>\n",
              "  </div>\n",
              "  "
            ]
          },
          "metadata": {},
          "execution_count": 42
        }
      ],
      "source": [
        "df[df.sentiment == 0].head(10)"
      ]
    },
    {
      "cell_type": "code",
      "execution_count": null,
      "metadata": {
        "colab": {
          "base_uri": "https://localhost:8080/",
          "height": 363
        },
        "id": "Z2O5rJdT_SHE",
        "outputId": "b6a84eed-2db6-47ac-bf9d-1df04b7d9e22"
      },
      "outputs": [
        {
          "output_type": "execute_result",
          "data": {
            "text/plain": [
              "   sentiment                                               text\n",
              "0         -1                     But sadly this is not working.\n",
              "1         -1  So, everything builds fine, but when we try to...\n",
              "2         -1  That is what is causing your null pointer exce...\n",
              "3         -1  All attempts I've made were, in a shortcut, un...\n",
              "4         -1                                         Don't use.\n",
              "5         -1  However when I try to run FILE_NAME, it gives ...\n",
              "6         -1  Problem: without zooming, the added content do...\n",
              "7         -1  in a application you can workaround with scali...\n",
              "8         -1                      else your GUI will be Hanged.\n",
              "9         -1  I am not sure about Map implementation in Haze..."
            ],
            "text/html": [
              "\n",
              "  <div id=\"df-def9c4b5-bc03-4993-89ec-2f824ac050c4\">\n",
              "    <div class=\"colab-df-container\">\n",
              "      <div>\n",
              "<style scoped>\n",
              "    .dataframe tbody tr th:only-of-type {\n",
              "        vertical-align: middle;\n",
              "    }\n",
              "\n",
              "    .dataframe tbody tr th {\n",
              "        vertical-align: top;\n",
              "    }\n",
              "\n",
              "    .dataframe thead th {\n",
              "        text-align: right;\n",
              "    }\n",
              "</style>\n",
              "<table border=\"1\" class=\"dataframe\">\n",
              "  <thead>\n",
              "    <tr style=\"text-align: right;\">\n",
              "      <th></th>\n",
              "      <th>sentiment</th>\n",
              "      <th>text</th>\n",
              "    </tr>\n",
              "  </thead>\n",
              "  <tbody>\n",
              "    <tr>\n",
              "      <th>0</th>\n",
              "      <td>-1</td>\n",
              "      <td>But sadly this is not working.</td>\n",
              "    </tr>\n",
              "    <tr>\n",
              "      <th>1</th>\n",
              "      <td>-1</td>\n",
              "      <td>So, everything builds fine, but when we try to...</td>\n",
              "    </tr>\n",
              "    <tr>\n",
              "      <th>2</th>\n",
              "      <td>-1</td>\n",
              "      <td>That is what is causing your null pointer exce...</td>\n",
              "    </tr>\n",
              "    <tr>\n",
              "      <th>3</th>\n",
              "      <td>-1</td>\n",
              "      <td>All attempts I've made were, in a shortcut, un...</td>\n",
              "    </tr>\n",
              "    <tr>\n",
              "      <th>4</th>\n",
              "      <td>-1</td>\n",
              "      <td>Don't use.</td>\n",
              "    </tr>\n",
              "    <tr>\n",
              "      <th>5</th>\n",
              "      <td>-1</td>\n",
              "      <td>However when I try to run FILE_NAME, it gives ...</td>\n",
              "    </tr>\n",
              "    <tr>\n",
              "      <th>6</th>\n",
              "      <td>-1</td>\n",
              "      <td>Problem: without zooming, the added content do...</td>\n",
              "    </tr>\n",
              "    <tr>\n",
              "      <th>7</th>\n",
              "      <td>-1</td>\n",
              "      <td>in a application you can workaround with scali...</td>\n",
              "    </tr>\n",
              "    <tr>\n",
              "      <th>8</th>\n",
              "      <td>-1</td>\n",
              "      <td>else your GUI will be Hanged.</td>\n",
              "    </tr>\n",
              "    <tr>\n",
              "      <th>9</th>\n",
              "      <td>-1</td>\n",
              "      <td>I am not sure about Map implementation in Haze...</td>\n",
              "    </tr>\n",
              "  </tbody>\n",
              "</table>\n",
              "</div>\n",
              "      <button class=\"colab-df-convert\" onclick=\"convertToInteractive('df-def9c4b5-bc03-4993-89ec-2f824ac050c4')\"\n",
              "              title=\"Convert this dataframe to an interactive table.\"\n",
              "              style=\"display:none;\">\n",
              "        \n",
              "  <svg xmlns=\"http://www.w3.org/2000/svg\" height=\"24px\"viewBox=\"0 0 24 24\"\n",
              "       width=\"24px\">\n",
              "    <path d=\"M0 0h24v24H0V0z\" fill=\"none\"/>\n",
              "    <path d=\"M18.56 5.44l.94 2.06.94-2.06 2.06-.94-2.06-.94-.94-2.06-.94 2.06-2.06.94zm-11 1L8.5 8.5l.94-2.06 2.06-.94-2.06-.94L8.5 2.5l-.94 2.06-2.06.94zm10 10l.94 2.06.94-2.06 2.06-.94-2.06-.94-.94-2.06-.94 2.06-2.06.94z\"/><path d=\"M17.41 7.96l-1.37-1.37c-.4-.4-.92-.59-1.43-.59-.52 0-1.04.2-1.43.59L10.3 9.45l-7.72 7.72c-.78.78-.78 2.05 0 2.83L4 21.41c.39.39.9.59 1.41.59.51 0 1.02-.2 1.41-.59l7.78-7.78 2.81-2.81c.8-.78.8-2.07 0-2.86zM5.41 20L4 18.59l7.72-7.72 1.47 1.35L5.41 20z\"/>\n",
              "  </svg>\n",
              "      </button>\n",
              "      \n",
              "  <style>\n",
              "    .colab-df-container {\n",
              "      display:flex;\n",
              "      flex-wrap:wrap;\n",
              "      gap: 12px;\n",
              "    }\n",
              "\n",
              "    .colab-df-convert {\n",
              "      background-color: #E8F0FE;\n",
              "      border: none;\n",
              "      border-radius: 50%;\n",
              "      cursor: pointer;\n",
              "      display: none;\n",
              "      fill: #1967D2;\n",
              "      height: 32px;\n",
              "      padding: 0 0 0 0;\n",
              "      width: 32px;\n",
              "    }\n",
              "\n",
              "    .colab-df-convert:hover {\n",
              "      background-color: #E2EBFA;\n",
              "      box-shadow: 0px 1px 2px rgba(60, 64, 67, 0.3), 0px 1px 3px 1px rgba(60, 64, 67, 0.15);\n",
              "      fill: #174EA6;\n",
              "    }\n",
              "\n",
              "    [theme=dark] .colab-df-convert {\n",
              "      background-color: #3B4455;\n",
              "      fill: #D2E3FC;\n",
              "    }\n",
              "\n",
              "    [theme=dark] .colab-df-convert:hover {\n",
              "      background-color: #434B5C;\n",
              "      box-shadow: 0px 1px 3px 1px rgba(0, 0, 0, 0.15);\n",
              "      filter: drop-shadow(0px 1px 2px rgba(0, 0, 0, 0.3));\n",
              "      fill: #FFFFFF;\n",
              "    }\n",
              "  </style>\n",
              "\n",
              "      <script>\n",
              "        const buttonEl =\n",
              "          document.querySelector('#df-def9c4b5-bc03-4993-89ec-2f824ac050c4 button.colab-df-convert');\n",
              "        buttonEl.style.display =\n",
              "          google.colab.kernel.accessAllowed ? 'block' : 'none';\n",
              "\n",
              "        async function convertToInteractive(key) {\n",
              "          const element = document.querySelector('#df-def9c4b5-bc03-4993-89ec-2f824ac050c4');\n",
              "          const dataTable =\n",
              "            await google.colab.kernel.invokeFunction('convertToInteractive',\n",
              "                                                     [key], {});\n",
              "          if (!dataTable) return;\n",
              "\n",
              "          const docLinkHtml = 'Like what you see? Visit the ' +\n",
              "            '<a target=\"_blank\" href=https://colab.research.google.com/notebooks/data_table.ipynb>data table notebook</a>'\n",
              "            + ' to learn more about interactive tables.';\n",
              "          element.innerHTML = '';\n",
              "          dataTable['output_type'] = 'display_data';\n",
              "          await google.colab.output.renderOutput(dataTable, element);\n",
              "          const docLink = document.createElement('div');\n",
              "          docLink.innerHTML = docLinkHtml;\n",
              "          element.appendChild(docLink);\n",
              "        }\n",
              "      </script>\n",
              "    </div>\n",
              "  </div>\n",
              "  "
            ]
          },
          "metadata": {},
          "execution_count": 43
        }
      ],
      "source": [
        "df[df.sentiment == -1].head(10)"
      ]
    },
    {
      "cell_type": "markdown",
      "metadata": {
        "id": "4izE7SPz_SHF"
      },
      "source": [
        "By looking at some entries for each class, it seems like that all the negative class is from 0~799999th index,\n",
        "and the positive class entries start from 800000 to the end of the dataset."
      ]
    },
    {
      "cell_type": "code",
      "execution_count": null,
      "metadata": {
        "colab": {
          "base_uri": "https://localhost:8080/"
        },
        "id": "Bbwz99tB_SHF",
        "outputId": "711637ab-fc27-4f50-95ce-04a58a9069e0"
      },
      "outputs": [
        {
          "output_type": "execute_result",
          "data": {
            "text/plain": [
              "Int64Index([ 178,  179,  180,  181,  182,  183,  184,  185,  186,  187,\n",
              "            ...\n",
              "            1359, 1360, 1361, 1362, 1363, 1364, 1365, 1366, 1367, 1368],\n",
              "           dtype='int64', length=1191)"
            ]
          },
          "metadata": {},
          "execution_count": 44
        }
      ],
      "source": [
        "df[df.sentiment == 0].index"
      ]
    },
    {
      "cell_type": "code",
      "execution_count": null,
      "metadata": {
        "colab": {
          "base_uri": "https://localhost:8080/"
        },
        "id": "efm29LoD_SHF",
        "outputId": "ff95455e-da74-4d5a-ca1a-74c42fc2605c"
      },
      "outputs": [
        {
          "output_type": "execute_result",
          "data": {
            "text/plain": [
              "Int64Index([  0,   1,   2,   3,   4,   5,   6,   7,   8,   9,\n",
              "            ...\n",
              "            168, 169, 170, 171, 172, 173, 174, 175, 176, 177],\n",
              "           dtype='int64', length=178)"
            ]
          },
          "metadata": {},
          "execution_count": 45
        }
      ],
      "source": [
        "df[df.sentiment == -1].index"
      ]
    },
    {
      "cell_type": "markdown",
      "metadata": {
        "id": "_OH7EKpL_SHF"
      },
      "source": [
        "In order for the computation, I mapped the class value of 4(positive) to 1."
      ]
    },
    {
      "cell_type": "code",
      "execution_count": null,
      "metadata": {
        "collapsed": true,
        "id": "yGIeQgsd_SHG"
      },
      "outputs": [],
      "source": [
        "df['sentiment'] = df['sentiment'].map({0: 1, -1: 0, 1: 2})"
      ]
    },
    {
      "cell_type": "code",
      "execution_count": null,
      "metadata": {
        "colab": {
          "base_uri": "https://localhost:8080/"
        },
        "id": "uVMMK7ig_SHG",
        "outputId": "88434765-a8cf-4b41-c9b8-ae40987f288c"
      },
      "outputs": [
        {
          "output_type": "execute_result",
          "data": {
            "text/plain": [
              "1    1191\n",
              "0     178\n",
              "2     131\n",
              "Name: sentiment, dtype: int64"
            ]
          },
          "metadata": {},
          "execution_count": 11
        }
      ],
      "source": [
        "df.sentiment.value_counts()"
      ]
    },
    {
      "cell_type": "markdown",
      "metadata": {
        "id": "L08RU4oT_SHG"
      },
      "source": [
        "# Data Preparation"
      ]
    },
    {
      "cell_type": "markdown",
      "metadata": {
        "id": "Rm1u_Ng6_SHG"
      },
      "source": [
        "As a way of sanity check, let's look at the length of the string in text column in each entry."
      ]
    },
    {
      "cell_type": "code",
      "execution_count": null,
      "metadata": {
        "collapsed": true,
        "id": "jyY-0n8K_SHG"
      },
      "outputs": [],
      "source": [
        "df['pre_clean_len'] = [len(t) for t in df.text]"
      ]
    },
    {
      "cell_type": "markdown",
      "metadata": {
        "id": "MQ93U-r4_SHH"
      },
      "source": [
        "## Data Dictionary - first draft"
      ]
    },
    {
      "cell_type": "markdown",
      "metadata": {
        "id": "sZYMMYFr_SHH"
      },
      "source": [
        "Below is the first draft of the data dictionary for the dataset, but as I go through preparation, this will need to be updated."
      ]
    },
    {
      "cell_type": "code",
      "execution_count": null,
      "metadata": {
        "colab": {
          "base_uri": "https://localhost:8080/"
        },
        "id": "byMaBSZL_SHH",
        "outputId": "0e66c93b-320c-4680-ba8a-a4badc845aae"
      },
      "outputs": [
        {
          "output_type": "stream",
          "name": "stdout",
          "text": [
            "{'dataset_shape': (1500, 3),\n",
            " 'pre_clean_len': {'description': 'Stack Overflow Post',\n",
            "                   'type': dtype('int64')},\n",
            " 'sentiment': {'description': 'sentiment class - -1:negative, 0:neutral, '\n",
            "                              '1:positive',\n",
            "               'type': dtype('int64')},\n",
            " 'text': {'description': 'post text', 'type': dtype('O')}}\n"
          ]
        }
      ],
      "source": [
        "from pprint import pprint\n",
        "data_dict = {\n",
        "    'sentiment':{\n",
        "        'type':df.sentiment.dtype,\n",
        "        'description':'sentiment class - -1:negative, 0:neutral, 1:positive'\n",
        "    },\n",
        "    'text':{\n",
        "        'type':df.text.dtype,\n",
        "        'description':'post text'\n",
        "    },\n",
        "    'pre_clean_len':{\n",
        "        'type':df.pre_clean_len.dtype,\n",
        "        'description':'Stack Overflow Post'\n",
        "    },\n",
        "    'dataset_shape':df.shape\n",
        "}\n",
        "\n",
        "pprint(data_dict)"
      ]
    },
    {
      "cell_type": "markdown",
      "metadata": {
        "id": "1qnvZ1HP_SHH"
      },
      "source": [
        " I will also plot pre_clean_len with box plot, so that I can see the overall distribution of length of strings in each entry."
      ]
    },
    {
      "cell_type": "code",
      "execution_count": null,
      "metadata": {
        "scrolled": true,
        "colab": {
          "base_uri": "https://localhost:8080/",
          "height": 316
        },
        "id": "QesAud_g_SHI",
        "outputId": "a71e7ad5-89f5-4fe3-9de1-3a8211dc439f"
      },
      "outputs": [
        {
          "output_type": "display_data",
          "data": {
            "text/plain": [
              "<Figure size 360x360 with 1 Axes>"
            ],
            "image/png": "[encoded data removed]"
          },
          "metadata": {
            "image/png": {
              "width": 350,
              "height": 299
            },
            "needs_background": "light"
          }
        }
      ],
      "source": [
        "fig, ax = plt.subplots(figsize=(5, 5))\n",
        "plt.boxplot(df.pre_clean_len)\n",
        "plt.show()"
      ]
    },
    {
      "cell_type": "code",
      "execution_count": null,
      "metadata": {
        "colab": {
          "base_uri": "https://localhost:8080/",
          "height": 363
        },
        "id": "gB-NHcDZ_SHI",
        "outputId": "26e6186c-ebf2-4edc-b555-317cbc36b994"
      },
      "outputs": [
        {
          "output_type": "execute_result",
          "data": {
            "text/plain": [
              "    sentiment                                               text  \\\n",
              "19          0  For some mystic reason, the workflow is not en...   \n",
              "26          0  After entering the details, when the button is...   \n",
              "32          0  I wanted to see all the files I have in my ext...   \n",
              "33          0  A workaround might be to use reflection, howev...   \n",
              "36          0  It is not advisable to avoid an exception with...   \n",
              "37          0  You are really asking too much of the Java run...   \n",
              "48          0  An SQL EXCEPTION is being caught saying API_NA...   \n",
              "63          0  But as far as I create the entitymanager - whi...   \n",
              "71          0  since a day I have a very annoying problem - I...   \n",
              "92          0  I am using standout library, I added a videoVi...   \n",
              "\n",
              "    pre_clean_len  \n",
              "19            157  \n",
              "26            141  \n",
              "32            184  \n",
              "33            184  \n",
              "36            153  \n",
              "37            206  \n",
              "48            150  \n",
              "63            150  \n",
              "71            156  \n",
              "92            192  "
            ],
            "text/html": [
              "\n",
              "  <div id=\"df-ed3b5352-7f64-456d-931f-4bab38b93c54\">\n",
              "    <div class=\"colab-df-container\">\n",
              "      <div>\n",
              "<style scoped>\n",
              "    .dataframe tbody tr th:only-of-type {\n",
              "        vertical-align: middle;\n",
              "    }\n",
              "\n",
              "    .dataframe tbody tr th {\n",
              "        vertical-align: top;\n",
              "    }\n",
              "\n",
              "    .dataframe thead th {\n",
              "        text-align: right;\n",
              "    }\n",
              "</style>\n",
              "<table border=\"1\" class=\"dataframe\">\n",
              "  <thead>\n",
              "    <tr style=\"text-align: right;\">\n",
              "      <th></th>\n",
              "      <th>sentiment</th>\n",
              "      <th>text</th>\n",
              "      <th>pre_clean_len</th>\n",
              "    </tr>\n",
              "  </thead>\n",
              "  <tbody>\n",
              "    <tr>\n",
              "      <th>19</th>\n",
              "      <td>0</td>\n",
              "      <td>For some mystic reason, the workflow is not en...</td>\n",
              "      <td>157</td>\n",
              "    </tr>\n",
              "    <tr>\n",
              "      <th>26</th>\n",
              "      <td>0</td>\n",
              "      <td>After entering the details, when the button is...</td>\n",
              "      <td>141</td>\n",
              "    </tr>\n",
              "    <tr>\n",
              "      <th>32</th>\n",
              "      <td>0</td>\n",
              "      <td>I wanted to see all the files I have in my ext...</td>\n",
              "      <td>184</td>\n",
              "    </tr>\n",
              "    <tr>\n",
              "      <th>33</th>\n",
              "      <td>0</td>\n",
              "      <td>A workaround might be to use reflection, howev...</td>\n",
              "      <td>184</td>\n",
              "    </tr>\n",
              "    <tr>\n",
              "      <th>36</th>\n",
              "      <td>0</td>\n",
              "      <td>It is not advisable to avoid an exception with...</td>\n",
              "      <td>153</td>\n",
              "    </tr>\n",
              "    <tr>\n",
              "      <th>37</th>\n",
              "      <td>0</td>\n",
              "      <td>You are really asking too much of the Java run...</td>\n",
              "      <td>206</td>\n",
              "    </tr>\n",
              "    <tr>\n",
              "      <th>48</th>\n",
              "      <td>0</td>\n",
              "      <td>An SQL EXCEPTION is being caught saying API_NA...</td>\n",
              "      <td>150</td>\n",
              "    </tr>\n",
              "    <tr>\n",
              "      <th>63</th>\n",
              "      <td>0</td>\n",
              "      <td>But as far as I create the entitymanager - whi...</td>\n",
              "      <td>150</td>\n",
              "    </tr>\n",
              "    <tr>\n",
              "      <th>71</th>\n",
              "      <td>0</td>\n",
              "      <td>since a day I have a very annoying problem - I...</td>\n",
              "      <td>156</td>\n",
              "    </tr>\n",
              "    <tr>\n",
              "      <th>92</th>\n",
              "      <td>0</td>\n",
              "      <td>I am using standout library, I added a videoVi...</td>\n",
              "      <td>192</td>\n",
              "    </tr>\n",
              "  </tbody>\n",
              "</table>\n",
              "</div>\n",
              "      <button class=\"colab-df-convert\" onclick=\"convertToInteractive('df-ed3b5352-7f64-456d-931f-4bab38b93c54')\"\n",
              "              title=\"Convert this dataframe to an interactive table.\"\n",
              "              style=\"display:none;\">\n",
              "        \n",
              "  <svg xmlns=\"http://www.w3.org/2000/svg\" height=\"24px\"viewBox=\"0 0 24 24\"\n",
              "       width=\"24px\">\n",
              "    <path d=\"M0 0h24v24H0V0z\" fill=\"none\"/>\n",
              "    <path d=\"M18.56 5.44l.94 2.06.94-2.06 2.06-.94-2.06-.94-.94-2.06-.94 2.06-2.06.94zm-11 1L8.5 8.5l.94-2.06 2.06-.94-2.06-.94L8.5 2.5l-.94 2.06-2.06.94zm10 10l.94 2.06.94-2.06 2.06-.94-2.06-.94-.94-2.06-.94 2.06-2.06.94z\"/><path d=\"M17.41 7.96l-1.37-1.37c-.4-.4-.92-.59-1.43-.59-.52 0-1.04.2-1.43.59L10.3 9.45l-7.72 7.72c-.78.78-.78 2.05 0 2.83L4 21.41c.39.39.9.59 1.41.59.51 0 1.02-.2 1.41-.59l7.78-7.78 2.81-2.81c.8-.78.8-2.07 0-2.86zM5.41 20L4 18.59l7.72-7.72 1.47 1.35L5.41 20z\"/>\n",
              "  </svg>\n",
              "      </button>\n",
              "      \n",
              "  <style>\n",
              "    .colab-df-container {\n",
              "      display:flex;\n",
              "      flex-wrap:wrap;\n",
              "      gap: 12px;\n",
              "    }\n",
              "\n",
              "    .colab-df-convert {\n",
              "      background-color: #E8F0FE;\n",
              "      border: none;\n",
              "      border-radius: 50%;\n",
              "      cursor: pointer;\n",
              "      display: none;\n",
              "      fill: #1967D2;\n",
              "      height: 32px;\n",
              "      padding: 0 0 0 0;\n",
              "      width: 32px;\n",
              "    }\n",
              "\n",
              "    .colab-df-convert:hover {\n",
              "      background-color: #E2EBFA;\n",
              "      box-shadow: 0px 1px 2px rgba(60, 64, 67, 0.3), 0px 1px 3px 1px rgba(60, 64, 67, 0.15);\n",
              "      fill: #174EA6;\n",
              "    }\n",
              "\n",
              "    [theme=dark] .colab-df-convert {\n",
              "      background-color: #3B4455;\n",
              "      fill: #D2E3FC;\n",
              "    }\n",
              "\n",
              "    [theme=dark] .colab-df-convert:hover {\n",
              "      background-color: #434B5C;\n",
              "      box-shadow: 0px 1px 3px 1px rgba(0, 0, 0, 0.15);\n",
              "      filter: drop-shadow(0px 1px 2px rgba(0, 0, 0, 0.3));\n",
              "      fill: #FFFFFF;\n",
              "    }\n",
              "  </style>\n",
              "\n",
              "      <script>\n",
              "        const buttonEl =\n",
              "          document.querySelector('#df-ed3b5352-7f64-456d-931f-4bab38b93c54 button.colab-df-convert');\n",
              "        buttonEl.style.display =\n",
              "          google.colab.kernel.accessAllowed ? 'block' : 'none';\n",
              "\n",
              "        async function convertToInteractive(key) {\n",
              "          const element = document.querySelector('#df-ed3b5352-7f64-456d-931f-4bab38b93c54');\n",
              "          const dataTable =\n",
              "            await google.colab.kernel.invokeFunction('convertToInteractive',\n",
              "                                                     [key], {});\n",
              "          if (!dataTable) return;\n",
              "\n",
              "          const docLinkHtml = 'Like what you see? Visit the ' +\n",
              "            '<a target=\"_blank\" href=https://colab.research.google.com/notebooks/data_table.ipynb>data table notebook</a>'\n",
              "            + ' to learn more about interactive tables.';\n",
              "          element.innerHTML = '';\n",
              "          dataTable['output_type'] = 'display_data';\n",
              "          await google.colab.output.renderOutput(dataTable, element);\n",
              "          const docLink = document.createElement('div');\n",
              "          docLink.innerHTML = docLinkHtml;\n",
              "          element.appendChild(docLink);\n",
              "        }\n",
              "      </script>\n",
              "    </div>\n",
              "  </div>\n",
              "  "
            ]
          },
          "metadata": {},
          "execution_count": 58
        }
      ],
      "source": [
        "df[df.pre_clean_len > 140].head(10)"
      ]
    },
    {
      "cell_type": "markdown",
      "metadata": {
        "id": "LVdc01SO_SHI"
      },
      "source": [
        "## Data Preparation 1: HTML decoding"
      ]
    },
    {
      "cell_type": "markdown",
      "metadata": {
        "id": "9qxwCu-U_SHI"
      },
      "source": [
        "It looks like HTML encoding has not been converted to text, and ended up in text field as '&amp','&quot',etc.<br>\n",
        "Decoding HTML to general text will be my first step of data preparation.\n",
        "I will use BeautifulSoup for this."
      ]
    },
    {
      "cell_type": "code",
      "execution_count": null,
      "metadata": {
        "colab": {
          "base_uri": "https://localhost:8080/",
          "height": 36
        },
        "id": "IgHmrC-C_SHJ",
        "outputId": "434563c1-a7b4-4e1a-f59c-4a440c8a9d37"
      },
      "outputs": [
        {
          "output_type": "execute_result",
          "data": {
            "text/plain": [
              "'Try using equalsIgnoreCase instead of straight CODE_FRAGMENT.'"
            ],
            "application/vnd.google.colaboratory.intrinsic+json": {
              "type": "string"
            }
          },
          "metadata": {},
          "execution_count": 59
        }
      ],
      "source": [
        "df.text[279]"
      ]
    },
    {
      "cell_type": "code",
      "execution_count": null,
      "metadata": {
        "colab": {
          "base_uri": "https://localhost:8080/",
          "height": 36
        },
        "id": "vsH7Voae_SHJ",
        "outputId": "ffc06a89-fe5f-4153-a8da-cd532986d8e6"
      },
      "outputs": [
        {
          "output_type": "execute_result",
          "data": {
            "text/plain": [
              "'Try using equalsIgnoreCase instead of straight CODE_FRAGMENT.'"
            ],
            "application/vnd.google.colaboratory.intrinsic+json": {
              "type": "string"
            }
          },
          "metadata": {},
          "execution_count": 61
        }
      ],
      "source": [
        "from bs4 import BeautifulSoup\n",
        "example1 = BeautifulSoup(df.text[279], 'lxml')\n",
        "example1.get_text()"
      ]
    },
    {
      "cell_type": "markdown",
      "metadata": {
        "id": "m4WbSicb_SHJ"
      },
      "source": [
        "## Data Preparation 2: @mention"
      ]
    },
    {
      "cell_type": "markdown",
      "metadata": {
        "id": "S3pbDkA1_SHJ"
      },
      "source": [
        "The second part of the preparation is dealing with @mention.<br>\n",
        "Even though @mention carries a certain information (which another user that the tweet mentioned),\n",
        "this information doesn't add value to build sentiment analysis model."
      ]
    },
    {
      "cell_type": "code",
      "execution_count": null,
      "metadata": {
        "id": "gnn7VKMl_SHJ",
        "outputId": "5c0c5290-8a0e-4d2c-a9cc-776832e0e191"
      },
      "outputs": [
        {
          "data": {
            "text/plain": [
              "'@TheLeagueSF Not Fun &amp; Furious? The new mantra for the Bay 2 Breakers? It was getting 2 rambunctious;the city overreacted &amp; clamped down '"
            ]
          },
          "execution_count": 24,
          "metadata": {},
          "output_type": "execute_result"
        }
      ],
      "source": [
        "df.text[343]"
      ]
    },
    {
      "cell_type": "code",
      "execution_count": null,
      "metadata": {
        "id": "0nZ553xQ_SHK",
        "outputId": "108adae9-811a-414b-c12c-0f43e78f9b87"
      },
      "outputs": [
        {
          "data": {
            "text/plain": [
              "' Not Fun &amp; Furious? The new mantra for the Bay 2 Breakers? It was getting 2 rambunctious;the city overreacted &amp; clamped down '"
            ]
          },
          "execution_count": 25,
          "metadata": {},
          "output_type": "execute_result"
        }
      ],
      "source": [
        "import re\n",
        "re.sub(r'@[A-Za-z0-9]+','',df.text[343])"
      ]
    },
    {
      "cell_type": "markdown",
      "metadata": {
        "id": "6wI0dcvP_SHK"
      },
      "source": [
        "## Data Preparation 3: URL links"
      ]
    },
    {
      "cell_type": "markdown",
      "metadata": {
        "id": "4UAAnPMi_SHK"
      },
      "source": [
        "The third part of the cleaning is dealing with URL links, same with @mention,\n",
        "even though it carries some information, for sentiment analysis purpose,\n",
        "this can be ignored."
      ]
    },
    {
      "cell_type": "code",
      "execution_count": null,
      "metadata": {
        "id": "i_0cvv34_SHK",
        "outputId": "04e6dc5c-38c0-435d-b65d-0d1c191382cd"
      },
      "outputs": [
        {
          "data": {
            "text/plain": [
              "\"@switchfoot http://twitpic.com/2y1zl - Awww, that's a bummer.  You shoulda got David Carr of Third Day to do it. ;D\""
            ]
          },
          "execution_count": 26,
          "metadata": {},
          "output_type": "execute_result"
        }
      ],
      "source": [
        "df.text[0]"
      ]
    },
    {
      "cell_type": "code",
      "execution_count": null,
      "metadata": {
        "id": "9wSooW_q_SHK",
        "outputId": "de9b6cb6-4528-4bbc-af6f-58e66d802121"
      },
      "outputs": [
        {
          "data": {
            "text/plain": [
              "\"@switchfoot  - Awww, that's a bummer.  You shoulda got David Carr of Third Day to do it. ;D\""
            ]
          },
          "execution_count": 27,
          "metadata": {},
          "output_type": "execute_result"
        }
      ],
      "source": [
        "re.sub('https?://[A-Za-z0-9./]+','',df.text[0])"
      ]
    },
    {
      "cell_type": "markdown",
      "metadata": {
        "id": "K6W3AEL1_SHK"
      },
      "source": [
        "## Data Preparation 4: UTF-8 BOM (Byte Order Mark)"
      ]
    },
    {
      "cell_type": "code",
      "execution_count": null,
      "metadata": {
        "id": "PqScmkOm_SHL",
        "outputId": "bf624f64-78ce-4406-a406-f0512e6e003a"
      },
      "outputs": [
        {
          "data": {
            "text/plain": [
              "'Tuesday\\xef\\xbf\\xbdll start with reflection \\xef\\xbf\\xbdn then a lecture in Stress reducing techniques. That sure might become very useful for us accompaniers '"
            ]
          },
          "execution_count": 28,
          "metadata": {},
          "output_type": "execute_result"
        }
      ],
      "source": [
        "df.text[226]"
      ]
    },
    {
      "cell_type": "markdown",
      "metadata": {
        "id": "4_YWF_6E_SHL"
      },
      "source": [
        "By looking at the above entry, I can see strange patterns of characters \"\\xef\\xbf\\xbd\" and these are UTF-8 BOM.<br>\n",
        "\"The UTF-8 BOM is a sequence of bytes (EF BB BF) that allows the reader to identify a file as being encoded in UTF-8.\""
      ]
    },
    {
      "cell_type": "markdown",
      "metadata": {
        "id": "F3d8DU_Z_SHL"
      },
      "source": [
        "By decoding text with 'utf-8-sig', this BOM will be replaced with unicode unrecognizable special characters"
      ]
    },
    {
      "cell_type": "code",
      "execution_count": null,
      "metadata": {
        "id": "SeB51kLn_SHL",
        "outputId": "731ca50b-76fe-468e-b094-a6de34df9a22"
      },
      "outputs": [
        {
          "data": {
            "text/plain": [
              "u'Tuesday\\ufffdll start with reflection \\ufffdn then a lecture in Stress reducing techniques. That sure might become very useful for us accompaniers '"
            ]
          },
          "execution_count": 29,
          "metadata": {},
          "output_type": "execute_result"
        }
      ],
      "source": [
        "testing = df.text[226].decode(\"utf-8-sig\")\n",
        "testing"
      ]
    },
    {
      "cell_type": "code",
      "execution_count": null,
      "metadata": {
        "id": "e149lIM__SHL",
        "outputId": "14ab47e9-c33c-4bfb-cb56-be3d432d9ba5"
      },
      "outputs": [
        {
          "data": {
            "text/plain": [
              "u'Tuesday?ll start with reflection ?n then a lecture in Stress reducing techniques. That sure might become very useful for us accompaniers '"
            ]
          },
          "execution_count": 30,
          "metadata": {},
          "output_type": "execute_result"
        }
      ],
      "source": [
        "testing.replace(u\"\\ufffd\", \"?\")"
      ]
    },
    {
      "cell_type": "markdown",
      "metadata": {
        "id": "7jjOxhvX_SHL"
      },
      "source": [
        "## Data Preparation 5: hashtag / numbers"
      ]
    },
    {
      "cell_type": "markdown",
      "metadata": {
        "id": "H73R7fz3_SHM"
      },
      "source": [
        "Sometimes the text used with a hashtag can provide useful information about the post. It might be a bit risky to get rid of all the text together with the hashtag.<br>\n",
        "So I decided to remove the '#'. "
      ]
    },
    {
      "cell_type": "code",
      "execution_count": null,
      "metadata": {
        "id": "qC040jRt_SHM",
        "outputId": "a2eb1fec-5920-4e07-c214-a8c328427167"
      },
      "outputs": [
        {
          "data": {
            "text/plain": [
              "\"@machineplay I'm so sorry you're having to go through this. Again.  #therapyfail\""
            ]
          },
          "execution_count": 31,
          "metadata": {},
          "output_type": "execute_result"
        }
      ],
      "source": [
        "df.text[175]"
      ]
    },
    {
      "cell_type": "code",
      "execution_count": null,
      "metadata": {
        "id": "EGCk_ij6_SHM",
        "outputId": "f471fc20-4eb0-4717-f578-6f7d2f2c7295"
      },
      "outputs": [
        {
          "data": {
            "text/plain": [
              "' machineplay I m so sorry you re having to go through this  Again    therapyfail'"
            ]
          },
          "execution_count": 32,
          "metadata": {},
          "output_type": "execute_result"
        }
      ],
      "source": [
        "re.sub(\"[^a-zA-Z]\", \" \", df.text[175])"
      ]
    },
    {
      "cell_type": "markdown",
      "metadata": {
        "id": "fukLI4nN_SHM"
      },
      "source": [
        "# Defining data cleaning function"
      ]
    },
    {
      "cell_type": "markdown",
      "metadata": {
        "id": "uNQyO8YU_SHM"
      },
      "source": [
        "With above five data cleaning task, I will first define data cleaning function, and then will be applied to the whole dataset. Tokenization, stemming/lemmatization, stop words will be dealt with later stage when creating matrix with either count vectorizer or Tfidf vectorizer."
      ]
    },
    {
      "cell_type": "code",
      "execution_count": null,
      "metadata": {
        "collapsed": true,
        "id": "ItO2J2vj_SHM"
      },
      "outputs": [],
      "source": [
        "from nltk.tokenize import WordPunctTokenizer\n",
        "tok = WordPunctTokenizer()"
      ]
    },
    {
      "cell_type": "code",
      "execution_count": null,
      "metadata": {
        "collapsed": true,
        "id": "NBTRxEdJ_SHN"
      },
      "outputs": [],
      "source": [
        "pat1 = r'@[A-Za-z0-9]+'\n",
        "pat2 = r'https?://[A-Za-z0-9./]+'\n",
        "combined_pat = r'|'.join((pat1, pat2))\n",
        "\n",
        "def tweet_cleaner(text):\n",
        "    soup = BeautifulSoup(text, 'lxml')\n",
        "    souped = soup.get_text()\n",
        "    stripped = re.sub(combined_pat, '', souped)\n",
        "    try:\n",
        "        clean = stripped.decode(\"utf-8-sig\").replace(u\"\\ufffd\", \"?\")\n",
        "    except:\n",
        "        clean = stripped\n",
        "    letters_only = re.sub(\"[^a-zA-Z]\", \" \", clean)\n",
        "    lower_case = letters_only.lower()\n",
        "    # During the letters_only process two lines above, it has created unnecessay white spaces,\n",
        "    # I will tokenize and join together to remove unneccessary white spaces\n",
        "    words = tok.tokenize(lower_case)\n",
        "    return (\" \".join(words)).strip()"
      ]
    },
    {
      "cell_type": "code",
      "execution_count": null,
      "metadata": {
        "id": "FcWJHe9L_SHN"
      },
      "outputs": [],
      "source": [
        "testing = df.text[:100]"
      ]
    },
    {
      "cell_type": "code",
      "execution_count": null,
      "metadata": {
        "id": "kGKkix3Z_SHN"
      },
      "outputs": [],
      "source": [
        "test_result = []\n",
        "for t in testing:\n",
        "    test_result.append(tweet_cleaner(t))"
      ]
    },
    {
      "cell_type": "code",
      "execution_count": null,
      "metadata": {
        "id": "xh8E_2UU_SHN",
        "outputId": "032307e5-1759-45eb-802c-31032f61d38d"
      },
      "outputs": [
        {
          "data": {
            "text/plain": [
              "[u'awww that s a bummer you shoulda got david carr of third day to do it d',\n",
              " u'is upset that he can t update his facebook by texting it and might cry as a result school today also blah',\n",
              " u'i dived many times for the ball managed to save the rest go out of bounds',\n",
              " u'my whole body feels itchy and like its on fire',\n",
              " u'no it s not behaving at all i m mad why am i here because i can t see you all over there',\n",
              " u'not the whole crew',\n",
              " u'need a hug',\n",
              " u'hey long time no see yes rains a bit only a bit lol i m fine thanks how s you',\n",
              " u'k nope they didn t have it',\n",
              " u'que me muera',\n",
              " u'spring break in plain city it s snowing',\n",
              " u'i just re pierced my ears',\n",
              " u'i couldn t bear to watch it and i thought the ua loss was embarrassing',\n",
              " u'it it counts idk why i did either you never talk to me anymore',\n",
              " u'i would ve been the first but i didn t have a gun not really though zac snyder s just a doucheclown',\n",
              " u'i wish i got to watch it with you i miss you and how was the premiere',\n",
              " u'hollis death scene will hurt me severely to watch on film wry is directors cut not out now',\n",
              " u'about to file taxes',\n",
              " u'ahh ive always wanted to see rent love the soundtrack',\n",
              " u'oh dear were you drinking out of the forgotten table drinks',\n",
              " u'i was out most of the day so didn t get much done',\n",
              " u'one of my friend called me and asked to meet with her at mid valley today but i ve no time sigh',\n",
              " u'barista i baked you a cake but i ated it',\n",
              " u'this week is not going as i had hoped',\n",
              " u'blagh class at tomorrow',\n",
              " u'i hate when i have to call and wake people up',\n",
              " u'just going to cry myself to sleep after watching marley and me',\n",
              " u'im sad now miss lilly',\n",
              " u'ooooh lol that leslie and ok i won t do it again so leslie won t get mad again',\n",
              " u'meh almost lover is the exception this track gets me depressed every time',\n",
              " u'some hacked my account on aim now i have to make a new one',\n",
              " u'i want to go to promote gear and groove but unfornately no ride there i may b going to the one in anaheim in may though',\n",
              " u'thought sleeping in was an option tomorrow but realizing that it now is not evaluations in the morning and work in the afternoon',\n",
              " u'awe i love you too am here i miss you',\n",
              " u'i cry my asian eyes to sleep at night',\n",
              " u'ok i m sick and spent an hour sitting in the shower cause i was too sick to stand and held back the puke like a champ bed now',\n",
              " u'ill tell ya the story later not a good day and ill be workin for like three more hours',\n",
              " u'sorry bed time came here gmt',\n",
              " u'i don t either its depressing i don t think i even want to know about the kids in suitcases',\n",
              " u'bed class work gym or then class another day that s gonna fly by i miss my girlfriend',\n",
              " u'really don t feel like getting up today but got to study to for tomorrows practical exam',\n",
              " u'he s the reason for the teardrops on my guitar the only one who has enough of me to break my heart',\n",
              " u'sad sad sad i don t know why but i hate this feeling i wanna sleep and i still can t',\n",
              " u'awww i soo wish i was there to see you finally comfortable im sad that i missed it',\n",
              " u'falling asleep just heard about that tracy girl s body being found how sad my heart breaks for that family',\n",
              " u'yay i m happy for you with your job but that also means less time for me and you',\n",
              " u'just checked my user timeline on my blackberry it looks like the twanking is still happening are ppl still having probs w bgs and uids',\n",
              " u'oh man was ironing s fave top to wear to a meeting burnt it',\n",
              " u'is strangely sad about lilo and samro breaking up',\n",
              " u'oh i m so sorry i didn t think about that before retweeting',\n",
              " u'broadband plan a massive broken promise via www diigo com tautao still waiting for broadband we are',\n",
              " u'wow tons of replies from you may have to unfollow so i can see my friends tweets you re scrolling the feed a lot',\n",
              " u'our duck and chicken are taking wayyy too long to hatch',\n",
              " u'put vacation photos online a few yrs ago pc crashed and now i forget the name of the site',\n",
              " u'i need a hug',\n",
              " u'not sure what they are only that they are pos as much as i want to i dont think can trade away company assets sorry andy',\n",
              " u'i hate when that happens',\n",
              " u'i have a sad feeling that dallas is not going to show up i gotta say though you d think more shows would use music from the game mmm',\n",
              " u'ugh degrees tomorrow',\n",
              " u'where did u move to i thought u were already in sd hmmm random u found me glad to hear yer doing well',\n",
              " u'i miss my ps it s out of commission wutcha playing have you copped blood on the sand',\n",
              " u'just leaving the parking lot of work',\n",
              " u'the life is cool but not for me',\n",
              " u'sadly though i ve never gotten to experience the post coitus cigarette before and now i never will',\n",
              " u'i had such a nice day too bad the rain comes in tomorrow at am',\n",
              " u'too bad i won t be around i lost my job and can t even pay my phone bill lmao aw shucks',\n",
              " u'damm back to school tomorrow',\n",
              " u'mo jobs no money how in the hell is min wage here f n clams an hour',\n",
              " u'not forever see you soon',\n",
              " u'algonquin agreed i saw the failwhale allllll day today',\n",
              " u'oh haha dude i dont really look at em unless someone says hey i added you sorry i m so terrible at that i need a pop up',\n",
              " u'i m sure you re right i need to start working out with you and the nikster or jared at least',\n",
              " u'i really hate how people diss my bands trace is clearly not ugly',\n",
              " u'gym attire today was puma singlet adidas shorts and black business socks and leather shoes lucky did not run into any cute girls',\n",
              " u'why won t you show my location',\n",
              " u'no picnic my phone smells like citrus',\n",
              " u'my donkey is sensitive about such comments nevertheless he d and me d be glad to see your mug asap charger is still awol',\n",
              " u'no new csi tonight fml',\n",
              " u'i think my arms are sore from tennis',\n",
              " u'wonders why someone that u like so much can make you so unhappy in a split seccond depressed',\n",
              " u'sleep soon i just hate saying bye and see you tomorrow for the night',\n",
              " u'just got ur newsletter those fares really are unbelievable shame i already booked and paid for mine',\n",
              " u'missin the boo',\n",
              " u'me too itm',\n",
              " u'damn i don t have any chalk my chalkboard is useless',\n",
              " u'had a blast at the getty villa but hates that she s had a sore throat all day it s just getting worse too',\n",
              " u'hey missed ya at the meeting sup mama',\n",
              " u'my tummy hurts i wonder if the hypnosis has anything to do with it if so it s working i get it stop smoking',\n",
              " u'why is it always the fat ones',\n",
              " u'sorry babe my fam annoys me too thankfully they re asleep right now muahaha evil laugh',\n",
              " u'i should have paid more attention when we covered photoshop in my webpage design class in undergrad',\n",
              " u'wednesday my b day don t know what do',\n",
              " u'poor cameron the hills',\n",
              " u'pray for me please the ex is threatening to start sh at my our babies st birthday party what a jerk and i still have a headache',\n",
              " u'hmm do u really enjoy being with him if the problems are too constants u should think things more find someone ulike',\n",
              " u'strider is a sick little puppy',\n",
              " u'so rylee grace wana go steve s party or not sadly since its easter i wnt b able do much but ohh well',\n",
              " u'hey i actually won one of my bracket pools too bad it wasn t the one for money',\n",
              " u'you don t follow me either and i work for you',\n",
              " u'a bad nite for the favorite teams astros and spartans lose the nite out with t w was good']"
            ]
          },
          "execution_count": 49,
          "metadata": {},
          "output_type": "execute_result"
        }
      ],
      "source": [
        "test_result"
      ]
    },
    {
      "cell_type": "code",
      "execution_count": null,
      "metadata": {
        "id": "Ul4LHeSq_SHN"
      },
      "outputs": [],
      "source": [
        "nums = [0,500,1000,1500]"
      ]
    },
    {
      "cell_type": "code",
      "source": [
        "print \"Cleaning and parsing the posts...\\n\"\n",
        "clean_tweet_texts = []\n",
        "for i in xrange(nums[0],nums[1]):\n",
        "    if( (i+1)%100 == 0 ):\n",
        "        print \"Posts %d of %d has been processed\" % ( i+1, nums[1] )                                                                    \n",
        "    clean_tweet_texts.append(tweet_cleaner(df['text'][i]))"
      ],
      "metadata": {
        "colab": {
          "base_uri": "https://localhost:8080/"
        },
        "id": "Xgk_2eT-3BBW",
        "outputId": "f38ddae0-45e7-4bcb-d09f-d5e13bb2d84a"
      },
      "execution_count": null,
      "outputs": [
        {
          "output_type": "stream",
          "name": "stdout",
          "text": [
            "Cleaning and parsing the posts...\n",
            "\n",
            "Posts 100 of 500 has been processed\n",
            "Posts 200 of 500 has been processed\n",
            "Posts 300 of 500 has been processed\n",
            "Posts 400 of 500 has been processed\n",
            "Posts 500 of 500 has been processed\n"
          ]
        }
      ]
    },
    {
      "cell_type": "code",
      "source": [
        "print \"Cleaning and parsing the posts...\\n\"\n",
        "for i in xrange(nums[1],nums[2]):\n",
        "    if( (i+1)%100 == 0 ):\n",
        "        print \"Posts %d of %d has been processed\" % ( i+1, nums[2] )                                                                    \n",
        "    clean_tweet_texts.append(tweet_cleaner(df['text'][i]))"
      ],
      "metadata": {
        "colab": {
          "base_uri": "https://localhost:8080/"
        },
        "id": "ce23SRr441xv",
        "outputId": "a637b722-1392-4542-f748-6918d9365062"
      },
      "execution_count": null,
      "outputs": [
        {
          "output_type": "stream",
          "name": "stdout",
          "text": [
            "Cleaning and parsing the posts...\n",
            "\n",
            "Posts 600 of 1000 has been processed\n",
            "Posts 700 of 1000 has been processed\n",
            "Posts 800 of 1000 has been processed\n",
            "Posts 900 of 1000 has been processed\n",
            "Posts 1000 of 1000 has been processed\n"
          ]
        }
      ]
    },
    {
      "cell_type": "code",
      "execution_count": null,
      "metadata": {
        "id": "By38lB3H_SHP",
        "outputId": "4adaf421-b8c3-440c-ca1c-43f49b1bb641",
        "colab": {
          "base_uri": "https://localhost:8080/"
        }
      },
      "outputs": [
        {
          "output_type": "stream",
          "name": "stdout",
          "text": [
            "Cleaning and parsing the posts...\n",
            "\n",
            "Posts 1100 of 1500 has been processed\n",
            "Posts 1200 of 1500 has been processed\n",
            "Posts 1300 of 1500 has been processed\n",
            "Posts 1400 of 1500 has been processed\n",
            "Posts 1500 of 1500 has been processed\n"
          ]
        }
      ],
      "source": [
        "print \"Cleaning and parsing the posts...\\n\"\n",
        "for i in xrange(nums[2],nums[3]):\n",
        "    if( (i+1)%100 == 0 ):\n",
        "        print \"Posts %d of %d has been processed\" % ( i+1, nums[3] )                                                                    \n",
        "    clean_tweet_texts.append(tweet_cleaner(df['text'][i]))"
      ]
    },
    {
      "cell_type": "code",
      "execution_count": null,
      "metadata": {
        "id": "MPlpteoU_SHP",
        "outputId": "aa69cc39-aae0-4ceb-80c4-1c6580c75499",
        "colab": {
          "base_uri": "https://localhost:8080/"
        }
      },
      "outputs": [
        {
          "output_type": "stream",
          "name": "stdout",
          "text": [
            "1500\n"
          ]
        }
      ],
      "source": [
        "len(clean_tweet_texts)"
      ]
    },
    {
      "cell_type": "markdown",
      "metadata": {
        "id": "tM856QQC_SHQ"
      },
      "source": [
        "## Saving cleaned data as csv"
      ]
    },
    {
      "cell_type": "code",
      "execution_count": null,
      "metadata": {
        "id": "1MlHmQB2_SHQ",
        "outputId": "0c2bfdc3-043e-4726-80cd-66585d3016a4"
      },
      "outputs": [
        {
          "data": {
            "text/html": [
              "<div>\n",
              "<style>\n",
              "    .dataframe thead tr:only-child th {\n",
              "        text-align: right;\n",
              "    }\n",
              "\n",
              "    .dataframe thead th {\n",
              "        text-align: left;\n",
              "    }\n",
              "\n",
              "    .dataframe tbody tr th {\n",
              "        vertical-align: top;\n",
              "    }\n",
              "</style>\n",
              "<table border=\"1\" class=\"dataframe\">\n",
              "  <thead>\n",
              "    <tr style=\"text-align: right;\">\n",
              "      <th></th>\n",
              "      <th>text</th>\n",
              "      <th>target</th>\n",
              "    </tr>\n",
              "  </thead>\n",
              "  <tbody>\n",
              "    <tr>\n",
              "      <th>0</th>\n",
              "      <td>awww that s a bummer you shoulda got david car...</td>\n",
              "      <td>0</td>\n",
              "    </tr>\n",
              "    <tr>\n",
              "      <th>1</th>\n",
              "      <td>is upset that he can t update his facebook by ...</td>\n",
              "      <td>0</td>\n",
              "    </tr>\n",
              "    <tr>\n",
              "      <th>2</th>\n",
              "      <td>i dived many times for the ball managed to sav...</td>\n",
              "      <td>0</td>\n",
              "    </tr>\n",
              "    <tr>\n",
              "      <th>3</th>\n",
              "      <td>my whole body feels itchy and like its on fire</td>\n",
              "      <td>0</td>\n",
              "    </tr>\n",
              "    <tr>\n",
              "      <th>4</th>\n",
              "      <td>no it s not behaving at all i m mad why am i h...</td>\n",
              "      <td>0</td>\n",
              "    </tr>\n",
              "  </tbody>\n",
              "</table>\n",
              "</div>"
            ],
            "text/plain": [
              "                                                text  target\n",
              "0  awww that s a bummer you shoulda got david car...       0\n",
              "1  is upset that he can t update his facebook by ...       0\n",
              "2  i dived many times for the ball managed to sav...       0\n",
              "3     my whole body feels itchy and like its on fire       0\n",
              "4  no it s not behaving at all i m mad why am i h...       0"
            ]
          },
          "execution_count": 62,
          "metadata": {},
          "output_type": "execute_result"
        }
      ],
      "source": [
        "clean_df = pd.DataFrame(clean_tweet_texts,columns=['text'])\n",
        "clean_df['target'] = df.sentiment\n",
        "clean_df.head()"
      ]
    },
    {
      "cell_type": "code",
      "execution_count": null,
      "metadata": {
        "collapsed": true,
        "id": "ugfqBtkE_SHQ"
      },
      "outputs": [],
      "source": [
        "clean_df.to_csv('clean_stackoverflow_posts.csv',encoding='utf-8')"
      ]
    },
    {
      "cell_type": "code",
      "execution_count": null,
      "metadata": {
        "id": "D6Ke1Dyf_SHQ",
        "outputId": "94844d1c-389c-4809-fa3e-16c1068f4b4b"
      },
      "outputs": [
        {
          "data": {
            "text/html": [
              "<div>\n",
              "<style>\n",
              "    .dataframe thead tr:only-child th {\n",
              "        text-align: right;\n",
              "    }\n",
              "\n",
              "    .dataframe thead th {\n",
              "        text-align: left;\n",
              "    }\n",
              "\n",
              "    .dataframe tbody tr th {\n",
              "        vertical-align: top;\n",
              "    }\n",
              "</style>\n",
              "<table border=\"1\" class=\"dataframe\">\n",
              "  <thead>\n",
              "    <tr style=\"text-align: right;\">\n",
              "      <th></th>\n",
              "      <th>text</th>\n",
              "      <th>target</th>\n",
              "    </tr>\n",
              "  </thead>\n",
              "  <tbody>\n",
              "    <tr>\n",
              "      <th>0</th>\n",
              "      <td>awww that s a bummer you shoulda got david car...</td>\n",
              "      <td>0</td>\n",
              "    </tr>\n",
              "    <tr>\n",
              "      <th>1</th>\n",
              "      <td>is upset that he can t update his facebook by ...</td>\n",
              "      <td>0</td>\n",
              "    </tr>\n",
              "    <tr>\n",
              "      <th>2</th>\n",
              "      <td>i dived many times for the ball managed to sav...</td>\n",
              "      <td>0</td>\n",
              "    </tr>\n",
              "    <tr>\n",
              "      <th>3</th>\n",
              "      <td>my whole body feels itchy and like its on fire</td>\n",
              "      <td>0</td>\n",
              "    </tr>\n",
              "    <tr>\n",
              "      <th>4</th>\n",
              "      <td>no it s not behaving at all i m mad why am i h...</td>\n",
              "      <td>0</td>\n",
              "    </tr>\n",
              "  </tbody>\n",
              "</table>\n",
              "</div>"
            ],
            "text/plain": [
              "                                                text  target\n",
              "0  awww that s a bummer you shoulda got david car...       0\n",
              "1  is upset that he can t update his facebook by ...       0\n",
              "2  i dived many times for the ball managed to sav...       0\n",
              "3     my whole body feels itchy and like its on fire       0\n",
              "4  no it s not behaving at all i m mad why am i h...       0"
            ]
          },
          "execution_count": 71,
          "metadata": {},
          "output_type": "execute_result"
        }
      ],
      "source": [
        "csv = 'clean_stackoverflow_posts.csv'\n",
        "my_df = pd.read_csv(csv,index_col=0)\n",
        "my_df.head()"
      ]
    }
  ],
  "metadata": {
    "kernelspec": {
      "display_name": "Python 2",
      "language": "python",
      "name": "python2"
    },
    "language_info": {
      "codemirror_mode": {
        "name": "ipython",
        "version": 2
      },
      "file_extension": ".py",
      "mimetype": "text/x-python",
      "name": "python",
      "nbconvert_exporter": "python",
      "pygments_lexer": "ipython2",
      "version": "2.7.13"
    },
    "colab": {
      "provenance": []
    }
  },
  "nbformat": 4,
  "nbformat_minor": 0
}